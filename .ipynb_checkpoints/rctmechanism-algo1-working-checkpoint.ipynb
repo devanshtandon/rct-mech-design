{
 "cells": [
  {
   "cell_type": "code",
   "execution_count": 40,
   "metadata": {
    "collapsed": false
   },
   "outputs": [],
   "source": [
    "from scipy.optimize import linprog\n",
    "from math import sqrt\n",
    "\n",
    "import random\n",
    "import copy\n",
    "import math\n",
    "import matplotlib.pyplot as plt \n",
    "import timeit\n",
    "\n",
    "random.seed(42)"
   ]
  },
  {
   "cell_type": "code",
   "execution_count": 41,
   "metadata": {
    "collapsed": false
   },
   "outputs": [],
   "source": [
    "def solve_price_matrix(pred_treat_effect, ab_matrix):\n",
    "    # verify dimensions -- need to have a, b for each treatment\n",
    "    assert(len(pred_treat_effect[0]) == len(ab_matrix[0]) == len(ab_matrix[1]))\n",
    "    \n",
    "    price_matrix = copy.deepcopy(pred_treat_effect)\n",
    "    \n",
    "    # the price p(i,t) is a linear function of the input \n",
    "    for i in range(len(pred_treat_effect)):\n",
    "        for j in range(len(pred_treat_effect[0])):\n",
    "            price_matrix[i][j] = ab_matrix[0][j]*pred_treat_effect[i][j] + ab_matrix[1][j]\n",
    "            \n",
    "    return price_matrix"
   ]
  },
  {
   "cell_type": "code",
   "execution_count": 42,
   "metadata": {
    "collapsed": true
   },
   "outputs": [],
   "source": [
    "def solve_demand_matrix(wtp_matrix, price_matrix, budget_list):\n",
    "    # verify dimensions\n",
    "    # same number of subjects\n",
    "    assert(len(wtp_matrix) == len(price_matrix) == len(budget_list))\n",
    "    # same number of treatments\n",
    "    assert(len(wtp_matrix[0]) == len(price_matrix[0]))\n",
    "    \n",
    "    prob_matrix = []\n",
    "    global linprog_count\n",
    "    \n",
    "    # for feasibility condition\n",
    "    feasibility = [[1 for x in row] for row in wtp_matrix]\n",
    "    feasibility_budget = [1 for x in budget_list]\n",
    "    x_bounds = (0, 1)\n",
    "    \n",
    "#     feasibility = [[1, 1, 1], [1, 1, 1], [1, 1, 1]]\n",
    "#     feasibility_budget = [1, 1, 1]\n",
    "    \n",
    "    # convert wtp_matrix to negative for maximization using linprog\n",
    "    wtp_temp = [[-x for x in row] for row in wtp_matrix]\n",
    "    \n",
    "    # solve LP problem row by row\n",
    "    for i, row in enumerate(wtp_temp):\n",
    "        res = linprog(wtp_temp[i], A_ub=price_matrix[i], b_ub=budget_list[i],\n",
    "                  A_eq=feasibility, b_eq=feasibility_budget, \n",
    "                  bounds=(x_bounds,)*len(wtp_temp[0]))\n",
    "        linprog_count += 1\n",
    "        if (res.success == False):\n",
    "            print \"linprog not successful\"\n",
    "            print res.x\n",
    "        prob_matrix.append(res.x.tolist())\n",
    "    \n",
    "    return prob_matrix"
   ]
  },
  {
   "cell_type": "code",
   "execution_count": 43,
   "metadata": {
    "collapsed": true
   },
   "outputs": [],
   "source": [
    "def solve_excess_demand(demand_matrix, capacity_list):\n",
    "    # make sure the dimensions make sense\n",
    "    # we have a capacity for each treatment\n",
    "    assert (len(demand_matrix[0]) == len(capacity_list))\n",
    "    \n",
    "    # sum along the columns of demand_matrix to get total demand\n",
    "    total_demand_list = [0]*len(capacity_list)\n",
    "    for i in demand_matrix:\n",
    "        for j, val in enumerate(i):\n",
    "            total_demand_list[j] += val\n",
    "    \n",
    "    # subtract to get excess demand\n",
    "    excess_demand = [x1 - x2 for x1, x2 in zip(total_demand_list, capacity_list)]\n",
    "    return excess_demand"
   ]
  },
  {
   "cell_type": "code",
   "execution_count": 44,
   "metadata": {
    "collapsed": true
   },
   "outputs": [],
   "source": [
    "def solve_clearing_error(excess_demand_matrix):\n",
    "    sum_squares = sum([x**2 for x in excess_demand_matrix])\n",
    "    return sqrt(sum_squares)"
   ]
  },
  {
   "cell_type": "code",
   "execution_count": 45,
   "metadata": {
    "collapsed": true
   },
   "outputs": [],
   "source": [
    "def random_ab(budget_list):\n",
    "    a_list = [random.randint(-b, 0) for b in budget_list]\n",
    "    b_list = [random.randint(-b, b) for b in budget_list]\n",
    "    return [a_list, b_list]"
   ]
  },
  {
   "cell_type": "code",
   "execution_count": 46,
   "metadata": {
    "collapsed": false
   },
   "outputs": [],
   "source": [
    "def get_nbr_ab_values(ab_matrix, excess_demand_list, k):\n",
    "    nbr = [[(ab_matrix[0][t] + excess_demand_list[t]*k) for t in range(len(excess_demand_list))], \n",
    "           [(ab_matrix[1][t] + excess_demand_list[t]*k) for t in range(len(excess_demand_list))]]\n",
    "    return nbr\n",
    "    \n",
    "def get_nbr_clear_price_tuple(nbr_ab_val, pred_treat_effect, wtp_matrix, budget_list, capacity_list):\n",
    "    nbr_price = solve_price_matrix(pred_treat_effect, nbr_ab_val)\n",
    "#     print \"price:\", nbr_price\n",
    "    nbr_demand = solve_demand_matrix(wtp_matrix, nbr_price, budget_list)\n",
    "#     print \"demand:\", nbr_demand\n",
    "    nbr_excess_demand = solve_excess_demand(nbr_demand, capacity_list)\n",
    "    nbr_clearing_err = solve_clearing_error(nbr_excess_demand)\n",
    "    return (nbr_clearing_err, nbr_ab_val)\n",
    "    \n",
    "def get_nbrs(ab_matrix, excess_demand_list, k_list, pred_treat_effect, wtp_matrix, budget_list, capacity_list):\n",
    "    nbr_list = []\n",
    "    for k in k_list:\n",
    "        nbr_ab_val = get_nbr_ab_values(ab_matrix, excess_demand_list, k)\n",
    "#         print \"nbr_ab_val: \", nbr_ab_val \n",
    "        nbr_tup = get_nbr_clear_price_tuple(nbr_ab_val, pred_treat_effect, wtp_matrix, budget_list, capacity_list)\n",
    "        nbr_list.append(nbr_tup)\n",
    "    \n",
    "    return sorted(nbr_list)"
   ]
  },
  {
   "cell_type": "code",
   "execution_count": 47,
   "metadata": {
    "collapsed": false
   },
   "outputs": [],
   "source": [
    "# matrix of WTP -- subjects along rows, treatments along columns\n",
    "wtp_matrix = [[5, 1, 2], [3, 2, 7], [4, 3, 5]]\n",
    "wtp_rand = [[random.randint(1, 10) for i in range(3)] for x in range(3)]\n",
    "\n",
    "# matrix of predicted treatment effect -- subjects along rows, treatments along columns\n",
    "pred_treat_effect = [[3, 7, 2], [5, 4, 1], [1, 6, 4]]\n",
    "pred_rand = [[random.randint(1, 10) for i in range(3)] for x in range(3)]\n",
    "\n",
    "# list of factors to get different nbr prices\n",
    "k_list = [2**i for i in range(10)]\n",
    "\n",
    "budget_list = [100, 100, 100]\n",
    "capacity_list = [1, 1, 1]\n",
    "k_list = [2**i for i in range(10)]"
   ]
  },
  {
   "cell_type": "code",
   "execution_count": 48,
   "metadata": {
    "collapsed": false
   },
   "outputs": [
    {
     "name": "stdout",
     "output_type": "stream",
     "text": [
      "[[-19, -100, -19], [40, -32, -69]]\n",
      "[[-17, -732, -107], [-55, -432, -88], [21, -632, -145]]\n",
      "[[1.0, 0.0, 0.0], [0.0, 0.0, 1.0], [0.0, 0.0, 1.0]]\n",
      "((1.0, 0.0, 0.0), (0.0, 0.0, 1.0), (0.0, 0.0, 1.0))\n",
      "[0.0, -1.0, 1.0]\n",
      "1.41421356237\n"
     ]
    }
   ],
   "source": [
    "ab_matrix = random_ab(budget_list)\n",
    "price_matrix = solve_price_matrix(pred_treat_effect, ab_matrix)\n",
    "demand_matrix = solve_demand_matrix(wtp_matrix, price_matrix, budget_list)\n",
    "excess_demand_list = solve_excess_demand(demand_matrix, capacity_list)\n",
    "clearing_error = solve_clearing_error(excess_demand_list)\n",
    "\n",
    "print ab_matrix\n",
    "print price_matrix\n",
    "print demand_matrix\n",
    "print tuple([tuple(x) for x in demand_matrix])\n",
    "print excess_demand_list\n",
    "print clearing_error"
   ]
  },
  {
   "cell_type": "code",
   "execution_count": 49,
   "metadata": {
    "collapsed": false
   },
   "outputs": [],
   "source": [
    "nbr_list = get_nbrs(ab_matrix, excess_demand_list, k_list, pred_rand, wtp_rand, budget_list, capacity_list)"
   ]
  },
  {
   "cell_type": "code",
   "execution_count": 50,
   "metadata": {
    "collapsed": true
   },
   "outputs": [],
   "source": [
    "def algo1(wtp_matrix, pred_treat_effect, capacity_list, budget_list):\n",
    "    k_list = [2**i for i in range(10)]\n",
    "    best_err = float(\"inf\")\n",
    "    best_p = []\n",
    "    cur_time = 0\n",
    "    \n",
    "    best_err_list = []\n",
    "    search_err_list = []\n",
    "    cur_err_list = []\n",
    "    \n",
    "    while (cur_time < THRESHOLD):\n",
    "        ab_matrix = random_ab(budget_list)\n",
    "        price_matrix = solve_price_matrix(pred_treat_effect, ab_matrix)\n",
    "        demand_matrix = solve_demand_matrix(wtp_matrix, price_matrix, budget_list)\n",
    "        excess_demand_list = solve_excess_demand(demand_matrix, capacity_list)\n",
    "        search_err = solve_clearing_error(excess_demand_list)\n",
    "        \n",
    "        tabu_list = set()\n",
    "        c = 0 # number of steps taken without improving error\n",
    "        cand_ab, cand_p, cand_d = [], [], []\n",
    "        \n",
    "        while c < 5:\n",
    "            nbr_list = get_nbrs(ab_matrix, excess_demand_list, k_list, pred_treat_effect, wtp_matrix, budget_list, capacity_list)\n",
    "            found_n_step = False\n",
    "            while not(found_n_step) or not(nbr_list):\n",
    "                cand_ab = nbr_list.pop(0)[1]\n",
    "                cand_p = solve_price_matrix(pred_treat_effect, cand_ab)\n",
    "                cand_d = solve_demand_matrix(wtp_matrix, cand_p, budget_list)\n",
    "                tup_cand_d = tuple([tuple(x) for x in cand_d])\n",
    "                if tup_cand_d not in tabu_list:\n",
    "                    found_n_step = True\n",
    "            if not(nbr_list): # list is empty\n",
    "                c = 5 # force restart\n",
    "            else:\n",
    "                ab_matrix = cand_ab\n",
    "                price_matrix = cand_p\n",
    "                tabu_list.add(tup_cand_d)\n",
    "                excess_d = solve_excess_demand(cand_d, capacity_list)\n",
    "                cur_err = solve_clearing_error(excess_d)\n",
    "                cur_err_list.append(cur_err)\n",
    "                \n",
    "                if cur_err < search_err:\n",
    "                    search_err = cur_err\n",
    "                    search_err_list.append(search_err)\n",
    "                    c = 0\n",
    "                else:\n",
    "                    c += 1\n",
    "                \n",
    "                if cur_err < best_err:\n",
    "                    best_err = cur_err\n",
    "                    best_err_list.append(best_err)\n",
    "                    best_p = cand_p\n",
    "        \n",
    "        cur_time += 1\n",
    "    \n",
    "    print \"err:\", best_err\n",
    "    print \"price:\", best_p\n",
    "    best_d = solve_demand_matrix(wtp_matrix, best_p, budget_list)\n",
    "    print \"best_d:\", best_d\n",
    "    \n",
    "    return best_p, best_d, best_err, best_err_list, search_err_list, cur_err_list"
   ]
  },
  {
   "cell_type": "code",
   "execution_count": 68,
   "metadata": {
    "collapsed": false
   },
   "outputs": [
    {
     "name": "stdout",
     "output_type": "stream",
     "text": [
      "[[2, 1, 1, 1], [1, 2, 2, 2], [1, 1, 1, 2], [2, 1, 2, 1]]\n",
      "[[1, 1, 2, 1], [1, 1, 2, 1], [2, 1, 1, 2], [1, 1, 1, 1]]\n"
     ]
    }
   ],
   "source": [
    "DIM = 4\n",
    "# matrix of WTP -- subjects along rows, treatments along columns\n",
    "wtp_matrix = [[5, 5, 1, 1], [5, 5, 1, 1], [1, 1, 5, 5], [1, 1, 5, 5]]\n",
    "wtp_rand = [[random.randint(1, 2) for i in range(DIM)] for x in range(DIM)]\n",
    "print wtp_rand\n",
    "\n",
    "# matrix of predicted treatment effect -- subjects along rows, treatments along columns\n",
    "pred_treat_effect = [[5, 5, 1, 1], [5, 5, 1, 1], [1, 1, 5, 5], [1, 1, 5, 5]]\n",
    "pred_rand = [[random.randint(1, 2) for i in range(DIM)] for x in range(DIM)]\n",
    "print pred_rand\n",
    "\n",
    "budget_list = [10]*DIM\n",
    "capacity_list = [1]*DIM"
   ]
  },
  {
   "cell_type": "code",
   "execution_count": null,
   "metadata": {
    "collapsed": false
   },
   "outputs": [],
   "source": [
    "THRESHOLD = 10\n",
    "linprog_count = 0\n",
    "\n",
    "start_time = timeit.default_timer()\n",
    "best_p, best_d, best_err, best_err_list, search_err_list, cur_err_list = algo1(wtp_matrix, pred_treat_effect, capacity_list, budget_list)\n",
    "print(timeit.default_timer() - start_time)"
   ]
  },
  {
   "cell_type": "code",
   "execution_count": 55,
   "metadata": {
    "collapsed": false
   },
   "outputs": [
    {
     "name": "stdout",
     "output_type": "stream",
     "text": [
      "6\n",
      "20\n",
      "74\n"
     ]
    }
   ],
   "source": [
    "print len(best_err_list)\n",
    "print len(search_err_list)\n",
    "print len(cur_err_list)"
   ]
  },
  {
   "cell_type": "code",
   "execution_count": 56,
   "metadata": {
    "collapsed": false
   },
   "outputs": [
    {
     "data": {
      "image/png": "[encoded data removed]",
      "text/plain": [
       "<matplotlib.figure.Figure at 0x10be7bed0>"
      ]
     },
     "metadata": {},
     "output_type": "display_data"
    }
   ],
   "source": [
    "plt.plot(best_err_list)\n",
    "plt.show()"
   ]
  },
  {
   "cell_type": "code",
   "execution_count": 57,
   "metadata": {
    "collapsed": false
   },
   "outputs": [
    {
     "data": {
      "image/png": "[encoded data removed]",
      "text/plain": [
       "<matplotlib.figure.Figure at 0x10f3f7390>"
      ]
     },
     "metadata": {},
     "output_type": "display_data"
    }
   ],
   "source": [
    "plt.plot(search_err_list)\n",
    "plt.show()"
   ]
  },
  {
   "cell_type": "code",
   "execution_count": 58,
   "metadata": {
    "collapsed": false
   },
   "outputs": [
    {
     "data": {
      "image/png": "[encoded data removed]",
      "text/plain": [
       "<matplotlib.figure.Figure at 0x10f3ef850>"
      ]
     },
     "metadata": {},
     "output_type": "display_data"
    }
   ],
   "source": [
    "plt.plot(cur_err_list)\n",
    "plt.show()"
   ]
  },
  {
   "cell_type": "code",
   "execution_count": 59,
   "metadata": {
    "collapsed": false
   },
   "outputs": [
    {
     "name": "stdout",
     "output_type": "stream",
     "text": [
      "2475\n"
     ]
    }
   ],
   "source": [
    "print linprog_count"
   ]
  },
  {
   "cell_type": "code",
   "execution_count": null,
   "metadata": {
    "collapsed": true
   },
   "outputs": [],
   "source": []
  }
 ],
 "metadata": {
  "anaconda-cloud": {},
  "kernelspec": {
   "display_name": "Python [py27]",
   "language": "python",
   "name": "Python [py27]"
  },
  "language_info": {
   "codemirror_mode": {
    "name": "ipython",
    "version": 2
   },
   "file_extension": ".py",
   "mimetype": "text/x-python",
   "name": "python",
   "nbconvert_exporter": "python",
   "pygments_lexer": "ipython2",
   "version": "2.7.12"
  }
 },
 "nbformat": 4,
 "nbformat_minor": 0
}

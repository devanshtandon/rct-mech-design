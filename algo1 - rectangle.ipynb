{
 "cells": [
  {
   "cell_type": "code",
   "execution_count": 1,
   "metadata": {
    "collapsed": false
   },
   "outputs": [
    {
     "name": "stderr",
     "output_type": "stream",
     "text": [
      "/Users/Devansh/anaconda/envs/py27/lib/python2.7/site-packages/matplotlib/font_manager.py:273: UserWarning: Matplotlib is building the font cache using fc-list. This may take a moment.\n",
      "  warnings.warn('Matplotlib is building the font cache using fc-list. This may take a moment.')\n"
     ]
    }
   ],
   "source": [
    "from scipy.optimize import linprog\n",
    "from math import sqrt\n",
    "\n",
    "import random\n",
    "import copy\n",
    "import math\n",
    "import matplotlib.pyplot as plt \n",
    "import timeit\n",
    "\n",
    "random.seed(42)"
   ]
  },
  {
   "cell_type": "code",
   "execution_count": 2,
   "metadata": {
    "collapsed": true
   },
   "outputs": [],
   "source": [
    "def solve_price_matrix(pred_treat_effect, ab_matrix):\n",
    "    # verify dimensions -- need to have a, b for each treatment\n",
    "    assert(len(pred_treat_effect[0]) == len(ab_matrix[0]) == len(ab_matrix[1]))\n",
    "    \n",
    "    price_matrix = copy.deepcopy(pred_treat_effect)\n",
    "    \n",
    "    # the price p(i,t) is a linear function of the input \n",
    "    # price = a * (PTE) + b\n",
    "    for i in range(len(pred_treat_effect)):\n",
    "        for j in range(len(pred_treat_effect[0])):\n",
    "            price_matrix[i][j] = ab_matrix[0][j]*pred_treat_effect[i][j] + ab_matrix[1][j]\n",
    "            \n",
    "    return price_matrix"
   ]
  },
  {
   "cell_type": "code",
   "execution_count": 3,
   "metadata": {
    "collapsed": true
   },
   "outputs": [],
   "source": [
    "def solve_demand_matrix(wtp_matrix, price_matrix, budget_list):\n",
    "    # verify dimensions\n",
    "    # same number of subjects\n",
    "    assert(len(wtp_matrix) == len(price_matrix) == len(budget_list))\n",
    "    # same number of treatments\n",
    "    assert(len(wtp_matrix[0]) == len(price_matrix[0]))\n",
    "    \n",
    "    prob_matrix = []\n",
    "    global linprog_count\n",
    "    \n",
    "    # for feasibility condition\n",
    "    feasibility = [[1 for x in row] for row in wtp_matrix]\n",
    "    feasibility_budget = [1 for x in budget_list]\n",
    "    x_bounds = (0, 1)\n",
    "    \n",
    "    # convert wtp_matrix to negative for maximization using linprog\n",
    "    wtp_temp = [[-x for x in row] for row in wtp_matrix]\n",
    "    \n",
    "    # solve LP problem row by row\n",
    "    for i, row in enumerate(wtp_temp):\n",
    "        res = linprog(wtp_temp[i], A_ub=price_matrix[i], b_ub=budget_list[i],\n",
    "                  A_eq=feasibility, b_eq=feasibility_budget, \n",
    "                  bounds=(x_bounds,)*len(wtp_temp[0]), options=dict(bland=True, tol=1e-15))\n",
    "        linprog_count += 1\n",
    "        if (res.success == False):\n",
    "            print \"linprog not successful\"\n",
    "            print res\n",
    "        prob_matrix.append(res.x.tolist())\n",
    "    \n",
    "    return prob_matrix"
   ]
  },
  {
   "cell_type": "code",
   "execution_count": 4,
   "metadata": {
    "collapsed": true
   },
   "outputs": [],
   "source": [
    "def solve_excess_demand(demand_matrix, capacity_list):\n",
    "    # make sure the dimensions make sense\n",
    "    # we have a capacity for each treatment\n",
    "    assert (len(demand_matrix[0]) == len(capacity_list))\n",
    "    \n",
    "    # sum along the columns of demand_matrix to get total demand\n",
    "    total_demand_list = [0]*len(capacity_list)\n",
    "    for i in demand_matrix:\n",
    "        for j, val in enumerate(i):\n",
    "            total_demand_list[j] += val\n",
    "    \n",
    "    # subtract to get excess demand\n",
    "    excess_demand = [x1 - x2 for x1, x2 in zip(total_demand_list, capacity_list)]\n",
    "    return excess_demand"
   ]
  },
  {
   "cell_type": "code",
   "execution_count": 5,
   "metadata": {
    "collapsed": true
   },
   "outputs": [],
   "source": [
    "def solve_clearing_error(excess_demand_matrix):\n",
    "    sum_squares = sum([x**2 for x in excess_demand_matrix])\n",
    "    return sqrt(sum_squares)"
   ]
  },
  {
   "cell_type": "code",
   "execution_count": 6,
   "metadata": {
    "collapsed": true
   },
   "outputs": [],
   "source": [
    "def random_ab(b, l):\n",
    "    a_list = [random.randint(-b, 0) for b in range(l)]\n",
    "    b_list = [random.randint(-b, b) for b in range(l)]\n",
    "    return [a_list, b_list]"
   ]
  },
  {
   "cell_type": "code",
   "execution_count": 7,
   "metadata": {
    "collapsed": true
   },
   "outputs": [],
   "source": [
    "def get_nbr_ab_values(ab_matrix, excess_demand_list, k):\n",
    "    nbr = [[(ab_matrix[0][t] + excess_demand_list[t]*k) for t in range(len(excess_demand_list))], \n",
    "           [(ab_matrix[1][t] + excess_demand_list[t]*k) for t in range(len(excess_demand_list))]]\n",
    "    return nbr\n",
    "    \n",
    "def get_nbr_clear_price_tuple(nbr_ab_val, pred_treat_effect, wtp_matrix, budget_list, capacity_list):\n",
    "    nbr_price = solve_price_matrix(pred_treat_effect, nbr_ab_val)\n",
    "    nbr_demand = solve_demand_matrix(wtp_matrix, nbr_price, budget_list)\n",
    "    nbr_excess_demand = solve_excess_demand(nbr_demand, capacity_list)\n",
    "    nbr_clearing_err = solve_clearing_error(nbr_excess_demand)\n",
    "    return (nbr_clearing_err, nbr_ab_val)\n",
    "    \n",
    "def get_nbrs(ab_matrix, excess_demand_list, k_list, pred_treat_effect, wtp_matrix, budget_list, capacity_list):\n",
    "    nbr_list = []\n",
    "    for k in k_list:\n",
    "        nbr_ab_val = get_nbr_ab_values(ab_matrix, excess_demand_list, k)\n",
    "        nbr_tup = get_nbr_clear_price_tuple(nbr_ab_val, pred_treat_effect, wtp_matrix, budget_list, capacity_list)\n",
    "        nbr_list.append(nbr_tup)\n",
    "    \n",
    "    return sorted(nbr_list)"
   ]
  },
  {
   "cell_type": "code",
   "execution_count": 8,
   "metadata": {
    "collapsed": true
   },
   "outputs": [],
   "source": [
    "# find the price matrix that clears the market\n",
    "def algo1(wtp_matrix, pred_treat_effect, capacity_list, budget_list):\n",
    "    k_list = [2**i for i in range(10)] # this defines how neighbors are computed\n",
    "    best_err = float(\"inf\") # initialization code\n",
    "    best_p = []\n",
    "    cur_time = 0\n",
    "    \n",
    "    best_err_list = []\n",
    "    search_err_list = []\n",
    "    cur_err_list = []\n",
    "    \n",
    "    while (cur_time < THRESHOLD): # hyperparameter for number of search starts\n",
    "        ab_matrix = random_ab(budget_list[0], len(wtp_matrix[0]))\n",
    "        price_matrix = solve_price_matrix(pred_treat_effect, ab_matrix)\n",
    "        # solve utility maximization problem\n",
    "        demand_matrix = solve_demand_matrix(wtp_matrix, price_matrix, budget_list)\n",
    "        excess_demand_list = solve_excess_demand(demand_matrix, capacity_list)\n",
    "        search_err = solve_clearing_error(excess_demand_list)\n",
    "        \n",
    "        tabu_list = set() # new tabu list for every search \n",
    "        c = 0 # number of steps taken without improving error\n",
    "        cand_ab, cand_p, cand_d = [], [], []\n",
    "        \n",
    "        # take up to 5 steps in a direction tolerating increasing error\n",
    "        while c < 5:\n",
    "            nbr_list = get_nbrs(ab_matrix, excess_demand_list, k_list, pred_treat_effect, wtp_matrix, budget_list, capacity_list)\n",
    "            found_n_step = False\n",
    "            while not(found_n_step) and (nbr_list):\n",
    "                cand_ab = nbr_list.pop(0)[1] # get a candidate price\n",
    "                cand_p = solve_price_matrix(pred_treat_effect, cand_ab)\n",
    "                cand_d = solve_demand_matrix(wtp_matrix, cand_p, budget_list)\n",
    "                tup_cand_d = tuple([tuple(x) for x in cand_d])\n",
    "                if tup_cand_d not in tabu_list:\n",
    "                    found_n_step = True\n",
    "            if not(nbr_list): # list is empty\n",
    "                c = 5 # force restart\n",
    "            else:\n",
    "                ab_matrix = cand_ab\n",
    "                price_matrix = cand_p\n",
    "                tabu_list.add(tup_cand_d)\n",
    "                excess_d = solve_excess_demand(cand_d, capacity_list)\n",
    "                cur_err = solve_clearing_error(excess_d)\n",
    "                cur_err_list.append(cur_err)\n",
    "                \n",
    "                if cur_err < search_err: # update error in this search\n",
    "                    search_err = cur_err\n",
    "                    search_err_list.append(search_err)\n",
    "                    c = 0\n",
    "                else:\n",
    "                    c += 1\n",
    "                \n",
    "                if cur_err < best_err: # update best error so far\n",
    "                    best_err = cur_err\n",
    "                    best_err_list.append(best_err)\n",
    "                    best_p = cand_p\n",
    "        \n",
    "        cur_time += 1\n",
    "    \n",
    "    print \"err:\", best_err\n",
    "    print \"price:\", best_p\n",
    "    best_d = solve_demand_matrix(wtp_matrix, best_p, budget_list)\n",
    "    print \"best_d:\", best_d\n",
    "    \n",
    "    return best_p, best_d, best_err, best_err_list, search_err_list, cur_err_list"
   ]
  },
  {
   "cell_type": "code",
   "execution_count": 21,
   "metadata": {
    "collapsed": false
   },
   "outputs": [
    {
     "name": "stdout",
     "output_type": "stream",
     "text": [
      "[[7, 1, 1, 8, 3], [4, 2, 1, 8, 6], [8, 5, 8, 6, 2], [6, 10, 1, 8, 9], [6, 5, 10, 1, 5]]\n",
      "[[5, 7, 5, 10, 1], [1, 7, 1, 3, 7], [6, 4, 10, 6, 5], [7, 1, 8, 9, 7], [8, 8, 3, 5, 3]]\n"
     ]
    }
   ],
   "source": [
    "SUB = 5\n",
    "TREAT = 5\n",
    "# matrix of WTP -- subjects along rows, treatments along columns\n",
    "wtp_matrix = [[1, 2, 3], [2, 1, 3]]\n",
    "wtp_rand = [[random.randint(1, 10) for i in range(TREAT)] for x in range(SUB)]\n",
    "print wtp_rand\n",
    "\n",
    "# matrix of predicted treatment effect -- subjects along rows, treatments along columns\n",
    "pred_matrix = [[1, 2, 3], [2, 1, 3]]\n",
    "pred_rand = [[random.randint(1, 10) for i in range(TREAT)] for x in range(SUB)]\n",
    "print pred_rand\n",
    "\n",
    "budget_list = [100]*SUB\n",
    "capacity_list = [1]*TREAT"
   ]
  },
  {
   "cell_type": "code",
   "execution_count": 22,
   "metadata": {
    "collapsed": false
   },
   "outputs": [
    {
     "name": "stdout",
     "output_type": "stream",
     "text": [
      "err: 1.17347641976\n",
      "price: [[0.0, -1.0, -7.0, 675.0, -130.0], [0.0, -1.0, -3.0, 248.0, -514.0], [0.0, -1.0, -12.0, 431.0, -386.0], [0.0, -1.0, -10.0, 614.0, -514.0], [0.0, -1.0, -5.0, 370.0, -258.0]]\n",
      "best_d: [[0.8518518518518519, 0.0, 0.0, 0.14814814814814814, 0.0], [0.0, 0.0, 0.0, 0.8057742782152231, 0.1942257217847769], [1.0, 0.0, 0.0, 0.0, 0.0], [0.0, 1.0, 0.0, 0.0, 0.0], [0.0, 0.0, 1.0, 0.0, 0.0]]\n",
      "5.28425598145\n"
     ]
    }
   ],
   "source": [
    "THRESHOLD = 10\n",
    "linprog_count = 0\n",
    "\n",
    "start_time = timeit.default_timer()\n",
    "best_p, best_d, best_err, best_l, search_l, cur_l = algo1(wtp_rand, pred_rand, capacity_list, budget_list)\n",
    "print(timeit.default_timer() - start_time)"
   ]
  },
  {
   "cell_type": "code",
   "execution_count": 45,
   "metadata": {
    "collapsed": false
   },
   "outputs": [
    {
     "ename": "AssertionError",
     "evalue": "",
     "output_type": "error",
     "traceback": [
      "\u001b[0;31m---------------------------------------------------------------------------\u001b[0m",
      "\u001b[0;31mAssertionError\u001b[0m                            Traceback (most recent call last)",
      "\u001b[0;32m<ipython-input-45-17957b0c0aa2>\u001b[0m in \u001b[0;36m<module>\u001b[0;34m()\u001b[0m\n\u001b[1;32m      1\u001b[0m \u001b[0mab_matrix\u001b[0m \u001b[0;34m=\u001b[0m \u001b[0mrandom_ab\u001b[0m\u001b[0;34m(\u001b[0m\u001b[0mbudget_list\u001b[0m\u001b[0;34m[\u001b[0m\u001b[0;36m0\u001b[0m\u001b[0;34m]\u001b[0m\u001b[0;34m,\u001b[0m \u001b[0mlen\u001b[0m\u001b[0;34m(\u001b[0m\u001b[0mwtp_matrix\u001b[0m\u001b[0;34m[\u001b[0m\u001b[0;36m0\u001b[0m\u001b[0;34m]\u001b[0m\u001b[0;34m)\u001b[0m\u001b[0;34m)\u001b[0m\u001b[0;34m\u001b[0m\u001b[0m\n\u001b[1;32m      2\u001b[0m \u001b[0mprice_matrix\u001b[0m \u001b[0;34m=\u001b[0m \u001b[0msolve_price_matrix\u001b[0m\u001b[0;34m(\u001b[0m\u001b[0mpred_matrix\u001b[0m\u001b[0;34m,\u001b[0m \u001b[0mab_matrix\u001b[0m\u001b[0;34m)\u001b[0m\u001b[0;34m\u001b[0m\u001b[0m\n\u001b[0;32m----> 3\u001b[0;31m \u001b[0mdemand_matrix\u001b[0m \u001b[0;34m=\u001b[0m \u001b[0msolve_demand_matrix\u001b[0m\u001b[0;34m(\u001b[0m\u001b[0mwtp_matrix\u001b[0m\u001b[0;34m,\u001b[0m \u001b[0mprice_matrix\u001b[0m\u001b[0;34m,\u001b[0m \u001b[0mbudget_list\u001b[0m\u001b[0;34m)\u001b[0m\u001b[0;34m\u001b[0m\u001b[0m\n\u001b[0m\u001b[1;32m      4\u001b[0m \u001b[0;32mprint\u001b[0m \u001b[0mdemand_matrix\u001b[0m\u001b[0;34m\u001b[0m\u001b[0m\n",
      "\u001b[0;32m<ipython-input-38-ebcfe9f40e25>\u001b[0m in \u001b[0;36msolve_demand_matrix\u001b[0;34m(wtp_matrix, price_matrix, budget_list)\u001b[0m\n\u001b[1;32m      2\u001b[0m     \u001b[0;31m# verify dimensions\u001b[0m\u001b[0;34m\u001b[0m\u001b[0;34m\u001b[0m\u001b[0m\n\u001b[1;32m      3\u001b[0m     \u001b[0;31m# same number of subjects\u001b[0m\u001b[0;34m\u001b[0m\u001b[0;34m\u001b[0m\u001b[0m\n\u001b[0;32m----> 4\u001b[0;31m     \u001b[0;32massert\u001b[0m\u001b[0;34m(\u001b[0m\u001b[0mlen\u001b[0m\u001b[0;34m(\u001b[0m\u001b[0mwtp_matrix\u001b[0m\u001b[0;34m)\u001b[0m \u001b[0;34m==\u001b[0m \u001b[0mlen\u001b[0m\u001b[0;34m(\u001b[0m\u001b[0mprice_matrix\u001b[0m\u001b[0;34m)\u001b[0m \u001b[0;34m==\u001b[0m \u001b[0mlen\u001b[0m\u001b[0;34m(\u001b[0m\u001b[0mbudget_list\u001b[0m\u001b[0;34m)\u001b[0m\u001b[0;34m)\u001b[0m\u001b[0;34m\u001b[0m\u001b[0m\n\u001b[0m\u001b[1;32m      5\u001b[0m     \u001b[0;31m# same number of treatments\u001b[0m\u001b[0;34m\u001b[0m\u001b[0;34m\u001b[0m\u001b[0m\n\u001b[1;32m      6\u001b[0m     \u001b[0;32massert\u001b[0m\u001b[0;34m(\u001b[0m\u001b[0mlen\u001b[0m\u001b[0;34m(\u001b[0m\u001b[0mwtp_matrix\u001b[0m\u001b[0;34m[\u001b[0m\u001b[0;36m0\u001b[0m\u001b[0;34m]\u001b[0m\u001b[0;34m)\u001b[0m \u001b[0;34m==\u001b[0m \u001b[0mlen\u001b[0m\u001b[0;34m(\u001b[0m\u001b[0mprice_matrix\u001b[0m\u001b[0;34m[\u001b[0m\u001b[0;36m0\u001b[0m\u001b[0;34m]\u001b[0m\u001b[0;34m)\u001b[0m\u001b[0;34m)\u001b[0m\u001b[0;34m\u001b[0m\u001b[0m\n",
      "\u001b[0;31mAssertionError\u001b[0m: "
     ]
    }
   ],
   "source": [
    "ab_matrix = random_ab(budget_list[0], len(wtp_matrix[0]))\n",
    "price_matrix = solve_price_matrix(pred_matrix, ab_matrix)\n",
    "demand_matrix = solve_demand_matrix(wtp_matrix, price_matrix, budget_list)\n",
    "print demand_matrix"
   ]
  },
  {
   "cell_type": "code",
   "execution_count": 54,
   "metadata": {
    "collapsed": false
   },
   "outputs": [
    {
     "name": "stdout",
     "output_type": "stream",
     "text": [
      "1\n",
      "0\n",
      "10\n"
     ]
    }
   ],
   "source": [
    "print len(best_l)\n",
    "print len(search_l)\n",
    "print len(cur_l)"
   ]
  },
  {
   "cell_type": "code",
   "execution_count": 22,
   "metadata": {
    "collapsed": false
   },
   "outputs": [
    {
     "data": {
      "image/png": "[encoded data removed]",
      "text/plain": [
       "<matplotlib.figure.Figure at 0x10baa7050>"
      ]
     },
     "metadata": {},
     "output_type": "display_data"
    }
   ],
   "source": [
    "plt.plot(cur_l)\n",
    "plt.show()"
   ]
  },
  {
   "cell_type": "code",
   "execution_count": 23,
   "metadata": {
    "collapsed": false
   },
   "outputs": [
    {
     "data": {
      "image/png": "[encoded data removed]",
      "text/plain": [
       "<matplotlib.figure.Figure at 0x10baa7190>"
      ]
     },
     "metadata": {},
     "output_type": "display_data"
    }
   ],
   "source": [
    "plt.plot(search_l)\n",
    "plt.show()"
   ]
  },
  {
   "cell_type": "code",
   "execution_count": 24,
   "metadata": {
    "collapsed": false
   },
   "outputs": [
    {
     "data": {
      "image/png": "[encoded data removed]",
      "text/plain": [
       "<matplotlib.figure.Figure at 0x10bb06d10>"
      ]
     },
     "metadata": {},
     "output_type": "display_data"
    }
   ],
   "source": [
    "plt.plot(best_l)\n",
    "plt.show()"
   ]
  },
  {
   "cell_type": "code",
   "execution_count": 25,
   "metadata": {
    "collapsed": false
   },
   "outputs": [
    {
     "name": "stdout",
     "output_type": "stream",
     "text": [
      "642\n"
     ]
    }
   ],
   "source": [
    "print linprog_count"
   ]
  },
  {
   "cell_type": "code",
   "execution_count": null,
   "metadata": {
    "collapsed": true
   },
   "outputs": [],
   "source": []
  }
 ],
 "metadata": {
  "anaconda-cloud": {},
  "kernelspec": {
   "display_name": "Python [py27]",
   "language": "python",
   "name": "Python [py27]"
  },
  "language_info": {
   "codemirror_mode": {
    "name": "ipython",
    "version": 2
   },
   "file_extension": ".py",
   "mimetype": "text/x-python",
   "name": "python",
   "nbconvert_exporter": "python",
   "pygments_lexer": "ipython2",
   "version": "2.7.12"
  }
 },
 "nbformat": 4,
 "nbformat_minor": 0
}

{
 "cells": [
  {
   "cell_type": "code",
<<<<<<< HEAD
   "execution_count": 2,
=======
   "execution_count": 1,
>>>>>>> 4a26c01fed4527526f8675db8ae6ede7c8993ec6
   "metadata": {
    "collapsed": false
   },
   "outputs": [
    {
     "name": "stderr",
     "output_type": "stream",
     "text": [
      "/Users/Devansh/anaconda/envs/py27/lib/python2.7/site-packages/matplotlib/font_manager.py:273: UserWarning: Matplotlib is building the font cache using fc-list. This may take a moment.\n",
      "  warnings.warn('Matplotlib is building the font cache using fc-list. This may take a moment.')\n"
     ]
    }
   ],
   "source": [
    "from scipy.optimize import linprog\n",
    "from math import sqrt\n",
    "\n",
    "import random\n",
    "import copy\n",
    "import math\n",
    "import matplotlib.pyplot as plt \n",
    "import timeit\n",
    "\n",
    "random.seed(42)"
   ]
  },
  {
   "cell_type": "code",
<<<<<<< HEAD
   "execution_count": 3,
=======
   "execution_count": 2,
>>>>>>> 4a26c01fed4527526f8675db8ae6ede7c8993ec6
   "metadata": {
    "collapsed": true
   },
   "outputs": [],
   "source": [
    "def solve_price_matrix(pred_treat_effect, ab_matrix):\n",
    "    # verify dimensions -- need to have a, b for each treatment\n",
    "    assert(len(pred_treat_effect[0]) == len(ab_matrix[0]) == len(ab_matrix[1]))\n",
    "    \n",
    "    price_matrix = copy.deepcopy(pred_treat_effect)\n",
    "    \n",
    "    # the price p(i,t) is a linear function of the input \n",
<<<<<<< HEAD
    "    # price = a * (PTE) + b\n",
=======
>>>>>>> 4a26c01fed4527526f8675db8ae6ede7c8993ec6
    "    for i in range(len(pred_treat_effect)):\n",
    "        for j in range(len(pred_treat_effect[0])):\n",
    "            price_matrix[i][j] = ab_matrix[0][j]*pred_treat_effect[i][j] + ab_matrix[1][j]\n",
    "            \n",
    "    return price_matrix"
   ]
  },
  {
   "cell_type": "code",
<<<<<<< HEAD
   "execution_count": 4,
=======
   "execution_count": 3,
>>>>>>> 4a26c01fed4527526f8675db8ae6ede7c8993ec6
   "metadata": {
    "collapsed": true
   },
   "outputs": [],
   "source": [
    "def solve_demand_matrix(wtp_matrix, price_matrix, budget_list):\n",
    "    # verify dimensions\n",
    "    # same number of subjects\n",
    "    assert(len(wtp_matrix) == len(price_matrix) == len(budget_list))\n",
    "    # same number of treatments\n",
    "    assert(len(wtp_matrix[0]) == len(price_matrix[0]))\n",
    "    \n",
    "    prob_matrix = []\n",
    "    global linprog_count\n",
    "    \n",
    "    # for feasibility condition\n",
    "    feasibility = [[1 for x in row] for row in wtp_matrix]\n",
    "    feasibility_budget = [1 for x in budget_list]\n",
    "    x_bounds = (0, 1)\n",
    "    \n",
    "    # convert wtp_matrix to negative for maximization using linprog\n",
    "    wtp_temp = [[-x for x in row] for row in wtp_matrix]\n",
    "    \n",
    "    # solve LP problem row by row\n",
    "    for i, row in enumerate(wtp_temp):\n",
    "        res = linprog(wtp_temp[i], A_ub=price_matrix[i], b_ub=budget_list[i],\n",
    "                  A_eq=feasibility, b_eq=feasibility_budget, \n",
    "                  bounds=(x_bounds,)*len(wtp_temp[0]))\n",
    "        linprog_count += 1\n",
    "        if (res.success == False):\n",
    "            print \"linprog not successful\"\n",
    "            print res.x\n",
    "        prob_matrix.append(res.x.tolist())\n",
    "    \n",
    "    return prob_matrix"
   ]
  },
  {
   "cell_type": "code",
<<<<<<< HEAD
   "execution_count": 5,
=======
   "execution_count": 4,
>>>>>>> 4a26c01fed4527526f8675db8ae6ede7c8993ec6
   "metadata": {
    "collapsed": true
   },
   "outputs": [],
   "source": [
    "def solve_excess_demand(demand_matrix, capacity_list):\n",
    "    # make sure the dimensions make sense\n",
    "    # we have a capacity for each treatment\n",
    "    assert (len(demand_matrix[0]) == len(capacity_list))\n",
    "    \n",
    "    # sum along the columns of demand_matrix to get total demand\n",
    "    total_demand_list = [0]*len(capacity_list)\n",
    "    for i in demand_matrix:\n",
    "        for j, val in enumerate(i):\n",
    "            total_demand_list[j] += val\n",
    "    \n",
    "    # subtract to get excess demand\n",
    "    excess_demand = [x1 - x2 for x1, x2 in zip(total_demand_list, capacity_list)]\n",
    "    return excess_demand"
   ]
  },
  {
   "cell_type": "code",
<<<<<<< HEAD
   "execution_count": 6,
=======
   "execution_count": 5,
>>>>>>> 4a26c01fed4527526f8675db8ae6ede7c8993ec6
   "metadata": {
    "collapsed": true
   },
   "outputs": [],
   "source": [
    "def solve_clearing_error(excess_demand_matrix):\n",
    "    sum_squares = sum([x**2 for x in excess_demand_matrix])\n",
    "    return sqrt(sum_squares)"
   ]
  },
  {
   "cell_type": "code",
<<<<<<< HEAD
   "execution_count": 7,
=======
   "execution_count": 6,
>>>>>>> 4a26c01fed4527526f8675db8ae6ede7c8993ec6
   "metadata": {
    "collapsed": true
   },
   "outputs": [],
   "source": [
    "def random_ab(budget_list):\n",
    "    a_list = [random.randint(-b, 0) for b in budget_list]\n",
    "    b_list = [random.randint(-b, b) for b in budget_list]\n",
    "    return [a_list, b_list]"
   ]
  },
  {
   "cell_type": "code",
<<<<<<< HEAD
   "execution_count": 8,
=======
   "execution_count": 7,
>>>>>>> 4a26c01fed4527526f8675db8ae6ede7c8993ec6
   "metadata": {
    "collapsed": true
   },
   "outputs": [],
   "source": [
    "def get_nbr_ab_values(ab_matrix, excess_demand_list, k):\n",
    "    nbr = [[(ab_matrix[0][t] + excess_demand_list[t]*k) for t in range(len(excess_demand_list))], \n",
    "           [(ab_matrix[1][t] + excess_demand_list[t]*k) for t in range(len(excess_demand_list))]]\n",
    "    return nbr\n",
    "    \n",
    "def get_nbr_clear_price_tuple(nbr_ab_val, pred_treat_effect, wtp_matrix, budget_list, capacity_list):\n",
    "    nbr_price = solve_price_matrix(pred_treat_effect, nbr_ab_val)\n",
    "    nbr_demand = solve_demand_matrix(wtp_matrix, nbr_price, budget_list)\n",
    "    nbr_excess_demand = solve_excess_demand(nbr_demand, capacity_list)\n",
    "    nbr_clearing_err = solve_clearing_error(nbr_excess_demand)\n",
    "    return (nbr_clearing_err, nbr_ab_val)\n",
    "    \n",
    "def get_nbrs(ab_matrix, excess_demand_list, k_list, pred_treat_effect, wtp_matrix, budget_list, capacity_list):\n",
    "    nbr_list = []\n",
    "    for k in k_list:\n",
    "        nbr_ab_val = get_nbr_ab_values(ab_matrix, excess_demand_list, k)\n",
    "        nbr_tup = get_nbr_clear_price_tuple(nbr_ab_val, pred_treat_effect, wtp_matrix, budget_list, capacity_list)\n",
    "        nbr_list.append(nbr_tup)\n",
    "    \n",
    "    return sorted(nbr_list)"
   ]
  },
  {
   "cell_type": "code",
<<<<<<< HEAD
   "execution_count": 9,
=======
   "execution_count": 17,
>>>>>>> 4a26c01fed4527526f8675db8ae6ede7c8993ec6
   "metadata": {
    "collapsed": true
   },
   "outputs": [],
   "source": [
    "# find the price matrix that clears the market\n",
    "def algo1(wtp_matrix, pred_treat_effect, capacity_list, budget_list):\n",
    "    k_list = [2**i for i in range(10)] # this defines how neighors are computed\n",
    "    best_err = float(\"inf\") # initialization code\n",
    "    best_p = []\n",
    "    cur_time = 0\n",
    "    \n",
    "    best_err_list = []\n",
    "    search_err_list = []\n",
    "    cur_err_list = []\n",
    "    \n",
    "    while (cur_time < THRESHOLD): # hyperparameter for number of search starts\n",
    "        ab_matrix = random_ab(budget_list)\n",
    "        price_matrix = solve_price_matrix(pred_treat_effect, ab_matrix)\n",
    "        # solve utility maximization problem\n",
    "        demand_matrix = solve_demand_matrix(wtp_matrix, price_matrix, budget_list)\n",
    "        excess_demand_list = solve_excess_demand(demand_matrix, capacity_list)\n",
    "        search_err = solve_clearing_error(excess_demand_list)\n",
    "        \n",
    "        tabu_list = set() # new tabu list for every search \n",
    "        c = 0 # number of steps taken without improving error\n",
    "        cand_ab, cand_p, cand_d = [], [], []\n",
    "        \n",
    "        # take up to 5 steps in a direction tolerating increasing error\n",
    "        while c < 5:\n",
    "            nbr_list = get_nbrs(ab_matrix, excess_demand_list, k_list, pred_treat_effect, wtp_matrix, budget_list, capacity_list)\n",
    "            found_n_step = False\n",
    "            while not(found_n_step) and (nbr_list):\n",
    "                cand_ab = nbr_list.pop(0)[1] # get a candidate price\n",
    "                cand_p = solve_price_matrix(pred_treat_effect, cand_ab)\n",
    "                cand_d = solve_demand_matrix(wtp_matrix, cand_p, budget_list)\n",
    "                tup_cand_d = tuple([tuple(x) for x in cand_d])\n",
    "                if tup_cand_d not in tabu_list:\n",
    "                    found_n_step = True\n",
    "            if not(nbr_list): # list is empty\n",
    "                c = 5 # force restart\n",
    "            else:\n",
    "                ab_matrix = cand_ab\n",
    "                price_matrix = cand_p\n",
    "                tabu_list.add(tup_cand_d)\n",
    "                excess_d = solve_excess_demand(cand_d, capacity_list)\n",
    "                cur_err = solve_clearing_error(excess_d)\n",
    "                cur_err_list.append(cur_err)\n",
    "                \n",
    "                if cur_err < search_err: # update error in this search\n",
    "                    search_err = cur_err\n",
    "                    search_err_list.append(search_err)\n",
    "                    c = 0\n",
    "                else:\n",
    "                    c += 1\n",
    "                \n",
    "                if cur_err < best_err: # update best error so far\n",
    "                    best_err = cur_err\n",
    "                    best_err_list.append(best_err)\n",
    "                    best_p = cand_p\n",
    "        \n",
    "        cur_time += 1\n",
    "    \n",
    "    print \"err:\", best_err\n",
    "    print \"price:\", best_p\n",
    "    best_d = solve_demand_matrix(wtp_matrix, best_p, budget_list)\n",
    "    print \"best_d:\", best_d\n",
    "    \n",
    "    return best_p, best_d, best_err, best_err_list, search_err_list, cur_err_list"
   ]
  },
  {
   "cell_type": "code",
<<<<<<< HEAD
   "execution_count": 10,
=======
   "execution_count": 28,
>>>>>>> 4a26c01fed4527526f8675db8ae6ede7c8993ec6
   "metadata": {
    "collapsed": false
   },
   "outputs": [
    {
     "name": "stdout",
     "output_type": "stream",
     "text": [
<<<<<<< HEAD
      "[[2, 1, 1, 1, 2], [2, 2, 1, 1, 1], [1, 2, 1, 1, 2], [2, 1, 2, 2, 1], [2, 2, 1, 1, 2]]\n",
      "[[1, 1, 1, 2, 2], [2, 2, 2, 2, 1], [2, 2, 2, 2, 2], [2, 1, 1, 1, 1], [1, 1, 1, 2, 1]]\n"
=======
      "[[2, 1, 2, 2, 2, 1, 2, 2, 1, 1, 1, 1, 1, 2, 1, 2, 2, 1, 1, 1], [1, 2, 1, 1, 1, 1, 1, 2, 2, 2, 1, 1, 2, 1, 2, 2, 2, 2, 1, 2], [1, 1, 2, 2, 1, 2, 2, 1, 1, 2, 2, 2, 2, 2, 2, 2, 2, 1, 1, 1], [1, 1, 2, 1, 1, 1, 1, 2, 1, 2, 2, 2, 1, 1, 2, 1, 1, 1, 2, 2], [2, 1, 1, 1, 2, 1, 1, 1, 2, 1, 2, 1, 2, 1, 2, 1, 2, 2, 1, 1], [1, 2, 2, 2, 2, 1, 1, 2, 2, 2, 1, 2, 2, 1, 2, 1, 2, 1, 1, 2], [1, 1, 1, 1, 1, 2, 1, 2, 1, 1, 2, 2, 2, 2, 1, 1, 2, 2, 1, 2], [1, 1, 1, 1, 2, 2, 2, 2, 1, 1, 1, 1, 1, 2, 1, 1, 2, 2, 1, 2], [1, 1, 1, 2, 1, 1, 2, 1, 2, 1, 2, 2, 2, 2, 1, 1, 2, 2, 1, 1], [2, 1, 2, 2, 2, 2, 1, 1, 2, 2, 1, 2, 1, 2, 2, 2, 1, 2, 1, 1], [1, 1, 1, 2, 2, 2, 2, 1, 2, 1, 1, 2, 2, 1, 1, 1, 2, 2, 2, 1], [2, 1, 1, 2, 2, 2, 2, 1, 2, 2, 2, 1, 1, 2, 1, 2, 1, 2, 1, 1], [2, 1, 2, 1, 2, 2, 1, 2, 1, 2, 2, 2, 1, 2, 2, 1, 1, 2, 1, 1], [2, 2, 2, 2, 1, 2, 2, 2, 1, 2, 1, 1, 2, 1, 1, 2, 1, 1, 1, 2], [1, 2, 1, 1, 2, 1, 2, 1, 1, 2, 2, 1, 1, 1, 2, 2, 2, 2, 2, 2], [2, 2, 1, 1, 1, 2, 1, 2, 1, 2, 2, 2, 1, 1, 2, 2, 2, 2, 2, 1], [2, 2, 1, 2, 1, 2, 2, 2, 1, 2, 1, 2, 1, 1, 1, 1, 1, 2, 1, 2], [2, 2, 1, 2, 2, 1, 1, 2, 2, 1, 2, 1, 2, 2, 2, 2, 2, 2, 1, 1], [2, 2, 2, 2, 1, 2, 1, 2, 1, 2, 1, 2, 2, 1, 1, 1, 1, 1, 1, 2], [1, 2, 2, 2, 2, 1, 1, 2, 1, 1, 1, 1, 1, 1, 1, 2, 1, 2, 1, 1]]\n",
      "[[2, 1, 2, 1, 2, 1, 1, 1, 2, 2, 2, 1, 1, 1, 1, 2, 2, 1, 2, 2], [1, 2, 2, 2, 1, 1, 2, 1, 2, 1, 2, 2, 1, 2, 2, 1, 2, 1, 2, 1], [2, 2, 1, 2, 2, 1, 1, 1, 1, 1, 2, 2, 1, 2, 1, 2, 2, 1, 1, 2], [2, 2, 1, 2, 1, 2, 2, 2, 2, 2, 2, 1, 1, 2, 2, 2, 2, 2, 2, 1], [2, 2, 2, 1, 2, 1, 2, 1, 1, 1, 1, 2, 1, 2, 2, 2, 2, 1, 1, 1], [1, 2, 2, 1, 1, 2, 1, 1, 2, 2, 2, 2, 2, 1, 1, 2, 1, 2, 1, 1], [1, 2, 1, 1, 2, 2, 1, 1, 2, 1, 2, 2, 2, 2, 1, 1, 2, 1, 1, 1], [1, 1, 2, 2, 2, 1, 2, 2, 1, 2, 2, 2, 1, 1, 2, 1, 2, 1, 2, 2], [1, 2, 2, 1, 1, 2, 1, 2, 2, 1, 2, 2, 2, 2, 2, 1, 2, 1, 2, 2], [1, 1, 2, 2, 2, 2, 1, 2, 1, 2, 1, 2, 2, 1, 2, 2, 1, 1, 1, 1], [1, 1, 1, 2, 2, 2, 2, 1, 2, 2, 2, 2, 1, 2, 1, 1, 1, 1, 1, 1], [2, 2, 1, 2, 1, 2, 2, 1, 1, 1, 1, 2, 2, 2, 1, 1, 2, 1, 2, 1], [1, 1, 2, 2, 1, 2, 1, 2, 2, 1, 1, 2, 2, 1, 1, 2, 1, 2, 1, 2], [2, 2, 1, 1, 2, 1, 1, 2, 1, 2, 2, 1, 2, 1, 1, 1, 2, 2, 1, 2], [2, 2, 1, 1, 1, 2, 2, 1, 2, 1, 1, 2, 2, 2, 2, 1, 2, 1, 2, 2], [1, 2, 2, 2, 2, 1, 1, 2, 2, 2, 1, 1, 1, 1, 2, 2, 2, 2, 1, 1], [1, 2, 2, 1, 2, 1, 2, 2, 1, 1, 1, 1, 2, 2, 1, 2, 1, 1, 1, 2], [1, 2, 1, 2, 2, 1, 2, 2, 1, 1, 1, 2, 1, 1, 1, 2, 2, 2, 2, 1], [1, 2, 2, 2, 2, 1, 1, 1, 1, 2, 1, 2, 1, 2, 2, 2, 2, 2, 2, 1], [1, 1, 2, 2, 2, 1, 2, 1, 1, 2, 2, 2, 1, 2, 2, 2, 1, 2, 1, 2]]\n"
>>>>>>> 4a26c01fed4527526f8675db8ae6ede7c8993ec6
     ]
    }
   ],
   "source": [
<<<<<<< HEAD
    "DIM = 5\n",
    "# matrix of WTP -- subjects along rows, treatments along columns\n",
    "wtp_matrix = [[5, 1, 2], [3, 2, 7], [4, 3, 5], [1, 2, 3]]\n",
=======
    "DIM = 20\n",
    "# matrix of WTP -- subjects along rows, treatments along columns\n",
    "wtp_matrix = [[5, 1, 2], [3, 2, 7], [4, 3, 5]]\n",
>>>>>>> 4a26c01fed4527526f8675db8ae6ede7c8993ec6
    "wtp_rand = [[random.randint(1, 2) for i in range(DIM)] for x in range(DIM)]\n",
    "print wtp_rand\n",
    "\n",
    "# matrix of predicted treatment effect -- subjects along rows, treatments along columns\n",
<<<<<<< HEAD
    "pred_matrix = [[3, 7, 2], [5, 4, 1], [1, 6, 4], [1, 2, 3]]\n",
=======
    "pred_treat_effect = [[3, 7, 2], [5, 4, 1], [1, 6, 4]]\n",
>>>>>>> 4a26c01fed4527526f8675db8ae6ede7c8993ec6
    "pred_rand = [[random.randint(1, 2) for i in range(DIM)] for x in range(DIM)]\n",
    "print pred_rand\n",
    "\n",
    "budget_list = [100]*DIM\n",
    "capacity_list = [1]*DIM"
   ]
  },
  {
   "cell_type": "code",
<<<<<<< HEAD
   "execution_count": 14,
   "metadata": {
    "collapsed": false
   },
   "outputs": [
    {
     "ename": "TypeError",
     "evalue": "random_ab() takes exactly 1 argument (2 given)",
     "output_type": "error",
     "traceback": [
      "\u001b[0;31m---------------------------------------------------------------------------\u001b[0m",
      "\u001b[0;31mTypeError\u001b[0m                                 Traceback (most recent call last)",
      "\u001b[0;32m<ipython-input-14-72694abdbbeb>\u001b[0m in \u001b[0;36m<module>\u001b[0;34m()\u001b[0m\n\u001b[0;32m----> 1\u001b[0;31m \u001b[0mab_matrix\u001b[0m \u001b[0;34m=\u001b[0m \u001b[0mrandom_ab\u001b[0m\u001b[0;34m(\u001b[0m\u001b[0mbudget_list\u001b[0m\u001b[0;34m[\u001b[0m\u001b[0;36m0\u001b[0m\u001b[0;34m]\u001b[0m\u001b[0;34m,\u001b[0m \u001b[0mlen\u001b[0m\u001b[0;34m(\u001b[0m\u001b[0mwtp_matrix\u001b[0m\u001b[0;34m)\u001b[0m\u001b[0;34m)\u001b[0m\u001b[0;34m\u001b[0m\u001b[0m\n\u001b[0m\u001b[1;32m      2\u001b[0m \u001b[0;32mprint\u001b[0m \u001b[0mab_matrix\u001b[0m\u001b[0;34m\u001b[0m\u001b[0m\n",
      "\u001b[0;31mTypeError\u001b[0m: random_ab() takes exactly 1 argument (2 given)"
     ]
    }
   ],
   "source": [
    "ab_matrix = random_ab(budget_list)\n",
    "price_matrix = solve_price_matrix(pred_matrix, )"
   ]
  },
  {
   "cell_type": "code",
   "execution_count": 12,
=======
   "execution_count": 29,
>>>>>>> 4a26c01fed4527526f8675db8ae6ede7c8993ec6
   "metadata": {
    "collapsed": false
   },
   "outputs": [
    {
     "name": "stdout",
     "output_type": "stream",
     "text": [
<<<<<<< HEAD
      "err: 0.536473250984\n",
      "price: [[2972.0, 26.0, -1063.0, -1638.0, -1747.0], [4464.0, -48.0, -1616.0, -1638.0, -1175.0], [4464.0, -48.0, -1616.0, -1638.0, -1747.0], [4464.0, 26.0, -1063.0, -1116.0, -1175.0], [2972.0, 26.0, -1063.0, -1638.0, -1175.0]]\n",
      "best_d: [[0.3913964823055732, 0.0, 0.0, 0.0, 0.6086035176944268], [0.032801418439716346, 0.9671985815602837, 0.0, 0.0, 0.0], [0.0, 1.0, 0.0, 0.0, 6.938893903907228e-18], [0.4170436041252036, -1.0, 0.5829563958747964, 1.0, 0.0], [0.30745116952013507, 0.0, 0.0, 0.0, 0.6925488304798649]]\n",
      "14.883507967\n"
=======
      "err: 3.28378628248\n",
      "price: [[40863.0, 9188.0, 4640.0, 2927.0, -17.0, -39.0, -3174.0, -3152.0, -4771.0, -4492.0, -4637.0, -3081.0, -3174.0, -3123.0, -3130.0, -4644.0, -4661.0, -3061.0, -4708.0, -4614.0], [27273.0, 13745.0, 4640.0, 4359.0, -17.0, -39.0, -4771.0, -3152.0, -4771.0, -2963.0, -4637.0, -4624.0, -3174.0, -4691.0, -4715.0, -3049.0, -4661.0, -3061.0, -4708.0, -3092.0], [40863.0, 13745.0, 3122.0, 4359.0, -17.0, -39.0, -3174.0, -3152.0, -3170.0, -2963.0, -4637.0, -4624.0, -3174.0, -4691.0, -3130.0, -4644.0, -4661.0, -3061.0, -3096.0, -4614.0], [40863.0, 13745.0, 3122.0, 4359.0, -17.0, -91.0, -4771.0, -4712.0, -4771.0, -4492.0, -4637.0, -3081.0, -3174.0, -4691.0, -4715.0, -4644.0, -4661.0, -4632.0, -4708.0, -3092.0], [40863.0, 13745.0, 4640.0, 2927.0, -17.0, -39.0, -4771.0, -3152.0, -3170.0, -2963.0, -3071.0, -4624.0, -3174.0, -4691.0, -4715.0, -4644.0, -4661.0, -3061.0, -3096.0, -3092.0], [27273.0, 13745.0, 4640.0, 2927.0, -17.0, -91.0, -3174.0, -3152.0, -4771.0, -4492.0, -4637.0, -4624.0, -4757.0, -3123.0, -3130.0, -4644.0, -3091.0, -4632.0, -3096.0, -3092.0], [27273.0, 13745.0, 3122.0, 2927.0, -17.0, -91.0, -3174.0, -3152.0, -4771.0, -2963.0, -4637.0, -4624.0, -4757.0, -4691.0, -3130.0, -3049.0, -4661.0, -3061.0, -3096.0, -3092.0], [27273.0, 9188.0, 4640.0, 4359.0, -17.0, -39.0, -4771.0, -4712.0, -3170.0, -4492.0, -4637.0, -4624.0, -3174.0, -3123.0, -4715.0, -3049.0, -4661.0, -3061.0, -4708.0, -4614.0], [27273.0, 13745.0, 4640.0, 2927.0, -17.0, -91.0, -3174.0, -4712.0, -4771.0, -2963.0, -4637.0, -4624.0, -4757.0, -4691.0, -4715.0, -3049.0, -4661.0, -3061.0, -4708.0, -4614.0], [27273.0, 9188.0, 4640.0, 4359.0, -17.0, -91.0, -3174.0, -4712.0, -3170.0, -4492.0, -3071.0, -4624.0, -4757.0, -3123.0, -4715.0, -4644.0, -3091.0, -3061.0, -3096.0, -3092.0], [27273.0, 9188.0, 3122.0, 4359.0, -17.0, -91.0, -4771.0, -3152.0, -4771.0, -4492.0, -4637.0, -4624.0, -3174.0, -4691.0, -3130.0, -3049.0, -3091.0, -3061.0, -3096.0, -3092.0], [40863.0, 13745.0, 3122.0, 4359.0, -17.0, -91.0, -4771.0, -3152.0, -3170.0, -2963.0, -3071.0, -4624.0, -4757.0, -4691.0, -3130.0, -3049.0, -4661.0, -3061.0, -4708.0, -3092.0], [27273.0, 9188.0, 4640.0, 4359.0, -17.0, -91.0, -3174.0, -4712.0, -4771.0, -2963.0, -3071.0, -4624.0, -4757.0, -3123.0, -3130.0, -4644.0, -3091.0, -4632.0, -3096.0, -4614.0], [40863.0, 13745.0, 3122.0, 2927.0, -17.0, -39.0, -3174.0, -4712.0, -3170.0, -4492.0, -4637.0, -3081.0, -4757.0, -3123.0, -3130.0, -3049.0, -4661.0, -4632.0, -3096.0, -4614.0], [40863.0, 13745.0, 3122.0, 2927.0, -17.0, -91.0, -4771.0, -3152.0, -4771.0, -2963.0, -3071.0, -4624.0, -4757.0, -4691.0, -4715.0, -3049.0, -4661.0, -3061.0, -4708.0, -4614.0], [27273.0, 13745.0, 4640.0, 4359.0, -17.0, -39.0, -3174.0, -4712.0, -4771.0, -4492.0, -3071.0, -3081.0, -3174.0, -3123.0, -4715.0, -4644.0, -4661.0, -4632.0, -3096.0, -3092.0], [27273.0, 13745.0, 4640.0, 2927.0, -17.0, -39.0, -4771.0, -4712.0, -3170.0, -2963.0, -3071.0, -3081.0, -4757.0, -4691.0, -3130.0, -4644.0, -3091.0, -3061.0, -3096.0, -4614.0], [27273.0, 13745.0, 3122.0, 4359.0, -17.0, -39.0, -4771.0, -4712.0, -3170.0, -2963.0, -3071.0, -4624.0, -3174.0, -3123.0, -3130.0, -4644.0, -4661.0, -4632.0, -4708.0, -3092.0], [27273.0, 13745.0, 4640.0, 4359.0, -17.0, -39.0, -3174.0, -3152.0, -3170.0, -4492.0, -3071.0, -4624.0, -3174.0, -4691.0, -4715.0, -4644.0, -4661.0, -4632.0, -4708.0, -3092.0], [27273.0, 9188.0, 4640.0, 4359.0, -17.0, -39.0, -4771.0, -3152.0, -3170.0, -4492.0, -4637.0, -4624.0, -3174.0, -4691.0, -4715.0, -4644.0, -3091.0, -4632.0, -3096.0, -4614.0]]\n",
      "best_d: [[0.10458219840084353, 0.0, 0.0, 0.0, 0.0, 0.0, 0.0, 0.0, 0.0, 0.0, 0.0, 0.0, 0.0, 0.0, 0.0, 0.0, 0.8954178015991566, 0.0, 0.0, 0.0], [0.0, 0.0, 0.0, 0.0, 0.0, 0.0, 0.0, 0.0, 0.0, 0.9999999999999998, 0.0, 0.0, 0.0, 0.0, 0.0, 0.0, 0.0, 0.0, 0.0, 0.0], [0.0, 0.0, 0.0, 0.52939226519337, 0.0, 0.0, 0.0, 0.0, 0.0, 0.0, 0.0, 0.0, 0.0, 0.4706077348066299, 0.0, 0.0, 0.0, 0.0, 0.0, 0.0], [0.0, 0.0, 0.6030995534541634, 0.0, 0.0, 0.0, 0.0, 0.0, 0.0, 0.39690044654583667, 0.0, 0.0, 0.0, 0.0, 0.0, 0.0, 0.0, 0.0, 0.0, 0.0], [0.10564307341261134, 0.0, 0.0, 0.0, 0.0, 0.0, 0.0, 0.0, 0.0, 0.0, 0.0, 0.0, 0.0, 0.0, 0.8943569265873887, 0.0, 0.0, 0.0, 0.0, 0.0], [0.0, 0.0, 0.5175858038465625, 0.0, 0.0, 0.0, 0.0, 0.0, 0.48241419615343745, 0.0, 0.0, 0.0, 0.0, 0.0, 0.0, 0.0, 0.0, 0.0, 0.0, 0.0], [0.0, 0.0, 0.0, 0.0, 0.0, 0.9999999999999998, 0.0, 0.0, 0.0, 0.0, 0.0, 0.0, 0.0, 0.0, 0.0, 0.0, 0.0, 0.0, 0.0, 0.0], [0.0, 0.0, 0.0, 0.0, 0.9999999999999998, 0.0, 0.0, 0.0, 0.0, 0.0, 0.0, 0.0, 0.0, 0.0, 0.0, 0.0, 0.0, 0.0, 0.0, 0.0], [0.0, 0.0, 0.0, 0.6327617563003377, 0.0, 0.0, 0.0, 0.0, 0.3672382436996622, 0.0, 0.0, 0.0, 0.0, 0.0, 0.0, 0.0, 0.0, 0.0, 0.0, 0.0], [0.1505251969488558, 0.0, 0.0, 0.0, 0.0, 0.0, 0.0, 0.0, 0.0, 0.0, 0.0, 0.0, 0.0, 0.0, 0.8494748030511442, 0.0, 0.0, 0.0, 0.0, 0.0], [0.0, 0.0, 0.0, 0.0, 0.9999999999999998, 0.0, 0.0, 0.0, 0.0, 0.0, 0.0, 0.0, 0.0, 0.0, 0.0, 0.0, 0.0, 0.0, 0.0, 0.0], [0.1067405881579524, 0.0, 0.0, 0.0, 0.0, 0.0, 0.8932594118420476, 0.0, 0.0, 0.0, 0.0, 0.0, 0.0, 0.0, 0.0, 0.0, 0.0, 0.0, 0.0, 0.0], [0.15044552133812722, 0.0, 0.0, 0.0, 0.0, 0.0, 0.0, 0.8495544786618726, 0.0, 0.0, 0.0, 0.0, 0.0, 0.0, 0.0, 0.0, 0.0, 0.0, 0.0, 0.0], [0.10646646207803595, 0.0, 0.0, 0.0, 0.0, 0.0, 0.0, 0.0, 0.0, 0.0, 0.0, 0.0, 0.8935335379219641, 0.0, 0.0, 0.0, 0.0, 0.0, 0.0, 0.0], [0.0, 0.2630697774897386, 0.0, 0.0, 0.0, 0.0, 0.7369302225102614, 0.0, 0.0, 0.0, 0.0, 0.0, 0.0, 0.0, 0.0, 0.0, 0.0, 0.0, 0.0, 0.0], [0.1505251969488558, 0.0, 0.0, 0.0, 0.0, 0.0, 0.0, 0.0, 0.0, 0.0, 0.0, 0.0, 0.0, 0.0, 0.8494748030511442, 0.0, 0.0, 0.0, 0.0, 0.0], [0.15200973661215827, 0.0, 0.0, 0.0, 0.0, 0.0, 0.8479902633878417, 0.0, 0.0, 0.0, 0.0, 0.0, 0.0, 0.0, 0.0, 0.0, 0.0, 0.0, 0.0, 0.0], [0.0, 0.20928563662063715, 0.0, 0.10464281831031857, 0.0, 0.0, 0.0, 0.6860715450690441, 0.0, 0.0, 0.0, 0.0, 0.0, 0.0, 0.0, 0.0, 0.0, 0.0, 0.0, 0.0], [0.14810170235445336, 0.0, 0.0, 0.0, 0.0, 0.0, 0.0, 0.0, 0.0, 0.0, 0.0, 0.8518982976455465, 0.0, 0.0, 0.0, 0.0, 0.0, 0.0, 0.0, 0.0], [0.0, 0.3429728166570271, 0.0, 0.0, 0.0, 0.0, 0.0, 0.0, 0.0, 0.0, 0.0, 0.0, 0.0, 0.0, 0.0, 0.6570271833429728, 0.0, 0.0, 0.0, 0.0]]\n",
      "78.700150013\n"
>>>>>>> 4a26c01fed4527526f8675db8ae6ede7c8993ec6
     ]
    }
   ],
   "source": [
    "THRESHOLD = 10\n",
    "linprog_count = 0\n",
    "\n",
    "start_time = timeit.default_timer()\n",
    "best_p, best_d, best_err, best_l, search_l, cur_l = algo1(wtp_rand, pred_rand, capacity_list, budget_list)\n",
    "print(timeit.default_timer() - start_time)"
   ]
  },
  {
   "cell_type": "code",
<<<<<<< HEAD
   "execution_count": 13,
=======
   "execution_count": 30,
>>>>>>> 4a26c01fed4527526f8675db8ae6ede7c8993ec6
   "metadata": {
    "collapsed": false
   },
   "outputs": [
    {
     "name": "stdout",
     "output_type": "stream",
     "text": [
<<<<<<< HEAD
      "5\n",
      "36\n",
      "96\n"
=======
      "4\n",
      "33\n",
      "95\n"
>>>>>>> 4a26c01fed4527526f8675db8ae6ede7c8993ec6
     ]
    }
   ],
   "source": [
    "print len(best_l)\n",
    "print len(search_l)\n",
    "print len(cur_l)"
   ]
  },
  {
   "cell_type": "code",
   "execution_count": 31,
   "metadata": {
    "collapsed": false
   },
   "outputs": [
    {
     "data": {
      "image/png": "iVBORw0KGgoAAAANSUhEUgAAAg0AAAFkCAYAAACjCwibAAAABHNCSVQICAgIfAhkiAAAAAlwSFlz\nAAAPYQAAD2EBqD+naQAAIABJREFUeJzt3XmYFOW5NvD7gWGVRYcd2XfcGVBRXBBQXKLRaFTUaIwx\nasxJxHwnJ2Y9iYlZjOKa5Us04kYUEz+TqCBoXFBHhBFBGEBAGUA2QYZZWGfe749nXrumprq7qqe6\nqqf7/l3XXM10V3cVNTPddz3vJsYYEBEREaXTKu4DICIiopaBoYGIiIh8YWggIiIiXxgaiIiIyBeG\nBiIiIvKFoYGIiIh8YWggIiIiXxgaiIiIyBeGBiIiIvKFoYGIiIh8CRQaROSnIlLv+lqRYvvTPbav\nE5GezT90IiIiilJRBs/5AMBkANLw/cE02xsAIwBUfX6HMdsy2C8RERHFKJPQcNAYsz3gc7YbY3Zn\nsC8iIiLKEZn0aRguIptEZK2IPC4i/dNsLwCWiMgnIvKSiJycwT6JiIgoZhJkaWwRmQqgE4BVAPoA\n+F8AfQEcZYyp8dh+BIDTASwC0A7A9QC+AuAEY8ySFPvpBmAqgI8B7PV9gERERNQewCAAc40xO8J8\n4UChocmTRboCWA9gujHmrz6f8yqA9caYa1JscwWAJzI+MCIiIrrSGPNkmC+YSZ+GzxljKkVkNYBh\nAZ62EMCENNt8DACPP/44Ro8eneHRUVDTp0/HjBkz4j6MgsJzHj2e8+jxnEervLwcV111FdDwWRqm\nZoUGEekEDQyPBnjacQA2p9lmLwCMHj0aJSUlGR4dBdW1a1ee74jxnEeP5zx6POexCb15P1BoEJE7\nAfwL2iRxOICfATgAYFbD43cAONw2PYjIdwB8BGA5tI3legBnADgzpOMnIiKiiAStNPQD8CSAbgC2\nA1gAYLyjo0UfAM7RFG0B3AXtLFkLYCmAycaY15tz0ERERBS9QKHBGDMtzePXur6/E8CdGRwXERER\n5RiuPUGfmzYtZSakLOA5jx7PefR4zvNHs4ZcZouIlABYvHjxYnaeISIiCqCsrAxjx44FgLHGmLIw\nX5uVBiIiIvKFoYGIiIh8YWggIiIiXxgaiIiIyBeGBiIiIvKFoYGIiIh8YWggIiIiXxgaiIiIyBeG\nBiIiIvKFoYGIiIh8YWggIiIiXxgaiIiIyBeGBiIiIvKFoYGIiIh8YWggIiIiXxgaiIiIyBeGBiIi\nIvKFoYGIiIh8YWggIiIiXxgaiIiIyBeGBiIiIvKFoYGIiIh8YWggIiIiXxgaiIiIyBeGBiIiIvKF\noYGIiIh8YWggIiIiXxgaiIiIyBeGBiIiIvKFoYGIiIh8YWggIiIiXxgaiIiIyBeGBiIiIvKFoYGI\niIh8YWggIiIiXxgaiIiIyBeGBiIiIvKFoYGIiIh8YWggIiIiXxgaiIiIyBeGBiIiIvKFoYGIiNKq\nqwOMifsoKG4MDURElNbQocDs2XEfBcWNoYGIiFKqqwPWrwfWro37SChuDA1ERJRSba3e7t4d73FQ\n/BgaiIgopZoava2qivc4KH4MDURElFJ1td6y0kAMDURElBIrDWQxNBARUUoMDWQFCg0i8lMRqXd9\nrUjznIkislhE9orIahG5pnmHTEREUbKhgc0TlEml4QMAvQD0bvg6JdmGIjIIwL8BvAzgWAD3AviL\niJyZwX6JiCgGrDSQVZTBcw4aY7b73PYmAOuMMd9r+H6ViJwCYDqAeRnsm4iIIsbQQFYmlYbhIrJJ\nRNaKyOMi0j/FtuMBzHfdNxfASRnsl4iIYsDmCbKChoZSAF8FMBXAjQAGA3hdRA5Jsn1vAFtd920F\n0EVE2gXcNxERxcCGhupqrj9R6AI1Txhj5jq+/UBEFgJYD+BSAH8N88AAYPr06ejatWuj+6ZNm4Zp\n06aFvSsiIkrChgZj9N+dOsV7PJQwa9YszJo1q9F9lZWVWdtfJn0aPmeMqRSR1QCGJdlkC7TTpFMv\nALuNMfvSvf6MGTNQUlLSnEMkIqJmsqEB0CYKhobc4XUhXVZWhrFjx2Zlf82ap0FEOkEDw+Ykm7wN\nYLLrvrMa7iciohbAGRrYGbKwBZ2n4U4ROU1EBorIyQCeBXAAwKyGx+8QkZmOp/wRwBAR+Y2IjBSR\nbwK4BMDdIR0/Ud7YuRN45JG4j4KoqZoaoF1DLzR2hixsQSsN/QA8CWAlgL8B2A5gvDFmR8PjfQB8\nPprCGPMxgPMATAGwBDrU8jpjjHtEBVHBe+IJ4NprgSw2RxJlpKYG6NNH/81KQ2EL2hEyZQ9EY8y1\nHve9DiA7jStEeWTlSr3duhVw9f8lilVNDdC7N/DxxwwNhY5rTxDlCGdoIMolNjQAbJ4odAwNRDnC\nhoZt2+I9DiK3mhqgWzegqIiVhkLH0ECUA6qqgE8+0X+z0kC5pqYGOOQQoHNnhoZCx9BAlANWrUr8\nm6GBco0NDV26sHmi0DE0EOUA2zQxbFjw0LBkCfDtb4d/TEQWKw1kMTQQ5YBVq4C+fTU0BO3TMHs2\ncP/9wP792Tk2IlYayGJoIMoBK1cCo0YBPXsGrzSUl+vtjh2ptyPKRH09UFvLSgMphgaiHGBDQ69e\nmYeGTz8N/7iI9uzRW4YGAhgaiGJXVwd8+CEwcmTw0HDgALBmjf6blQbKhupqvWXzBAEMDUSxW78e\n2LcvUWmortZysB9r1gAHD+q/WWmgbLCLVbHSQABDA1Hs7MgJ26cB8N8Z0jZNAAwNlB0MDeTE0EAU\ns1WrgA4dgH79tNIA+G+iWLECKC4GevRgaKDscIYGNk9QoAWriCh8K1dqf4ZWrYKHhvJyYPRo4LPP\nGBooO7wqDcYAIvEeF8WDlQaimNmREwDQvbu+GQdpnhg9Wp/HjpCUDTY0dOqklYb6+sSICio8DA1E\nMVu1SisNgC4I1K2bv0pDfb0GDhsaWGmgbHBXGgA2URQyhgaiGH32mQYEW2kA/A+7rKjQK77RozVo\nMDRQNtjQ0LFjIjSwM2ThYmggipFdqCqT0GBHTrDSQNlUU6MddVu10uYJgJWGQsbQQBQjGxpGjEjc\n16uXvz4N5eV69TdgAEMDZY9ddwJgpYEYGohitXKlfuh37Ji4L0ilwY666N5dJ4Xaty97x0qFiaGB\nnBgaiGLkHDlh+V20qrwcOOII/Xf37nrLERQUNmdoYPMEMTQQxcgrNPTqBezcqetKJGOMTuw0erR+\n362b3rKJgsLmDA22bwMrDYWLoYEoJgcOAGvXJoZbWnaCp1T9GrZt05EXNjTYSgNDA4XNGRpEtNrA\n0FC4GBqIYvLRRxocvCoNQOrQ4Bw5ATA0UPY4QwOg/RrYPFG4GBqIYuJcqMrJLlqVql9DeblOBDVs\nmH7fpYt+z9BAYfMKDaw0FC6GBqKYrFqlU/P26dP4fr+hYdgwoE0b/V6EU0lTdrhDA5snChtDA1FM\nbCdI98I/7dsDXbumDw22acLirJCUDWyeICeGBqKYeI2csNJN8OQcbmlxgifKBjZPkBNDA1FMVq1K\nHhpSzdWwezewaVPTSgNDA2WDV/MEKw2Fi6GBKAa7dmn/A9uR0S3VrJC2AyVDA0WBlQZyYmggikFF\nhd4OHOj9eKrQsGKF3rrnd2BooLAZw46Q1BhDA1EMbGgYMMD78VR9GsrLNWw438gBjp6g8O3Zo8GB\nHSHJYmggikFFhQ6X7N3b+/GePYHt24H6+qaPeY2cAHT0RE2NvtEThaGmRm+9mieMieeYKF4MDUQx\nqKgA+vXTefy99OoF1NV5Vw6ShQYuWkVh8woNXboABw9yRdVCxdBAFIOKiuRNE0BiKml3v4Y9e4B1\n61KHBvZroLDY0NCpU+I+uzw2mygKE0MDUQz8hgZ3v4YFC7TJYvz4ps9haKCwJWueANgZslAxNBDF\nYMOG1KEh2VTSc+YAffsCRx3V9DkMDRS2ZM0TAENDoWJoIIrYwYM6OVOq0NCpE9ChQ9PQMHcucPbZ\nTaeets9p04Z9Gig8qSoNbJ4oTAwNRBHbvFk7OaYKDSJN52rYsAFYvlxDQ7LncK4GChMrDeTG0EAU\nsXRzNFjuuRrmztXRFlOmJH8OQwOFiZUGcmNoIIqYDQ39+6fezr3+xJw52gHysMOSP4ehgcJUUwO0\nawe0bp2475BDtKoVdaVh6VLgllui3Sc1xdBAFLGKCv3gt1dsyTibJw4cAObNA6ZOTf0chgYKk3sK\naUADQxzrT7z4InDvvfq3QPFhaCCKWLrhlpYzNLzzjpaDk/VnsLp1Y0dICo9XaADimUp6+3a93bUr\n2v1SYwwNRBELEhq2bdPpeufO1UAwdmzq57DSQGFKFRqirjTY0LBzZ7T7pcYYGogiFiQ07NunV3Rz\n5gBnndW4bdkLQwOFKVloiGOlS4aG3MDQQBQxv6HBTvD0wQfAokXpmyYADQ179gC1tc07RiIgN5sn\nPvss2v1SYwwNRBHavVvbZP1WGgDgscf09qyz0j+Hs0JSmFhpIDeGBqIIbdigt0FCw1NPAccdl3wZ\nbSeGBgoTKw3kxtBAFCG/EzsBOiyzqEgrE36aJgDtLAlwBAWFI1c6QtbWJprcWGmIF0MDUYQqKrQz\nY58+6bcVSfRr8BsaWGmIRn09UF0d91FkX640Tzh/nxka4sXQQBShigqgX7/0oyCsXr30qu6kk/xt\nf8ghOoMfQ0N2PfUUMHgwsHdv3EeSXbnSPGGbJjp1YvNE3BgaiCLkd+SENXIkcP75QNu2/rbnolXR\nWL9ez/GCBXEfSXblSvOEDQ0jRrDSELdmhQYR+b6I1IvI3Sm2Ob1hG+dXnYj0bM6+iVqiior0a044\nzZwJPPxwsH0wNGSfbZqYOzfe48i26urkzRP79+s8IlFgaMgdGYcGETkewDcAvO9jcwNgOIDeDV99\njDHbUj+FKP8ErTS0bavNDUFwKunss1fZ+RwajEldaQCiqzZs365NE337snkibhmFBhHpBOBxAF8H\n4Hcm8O3GmG32K5P9ErVkdXXAxo3BQkMmWGnIPvthuWwZ8Mkn8R5Ltuzbpx0+O3Vq+lgcoaFHD6C4\nmJWGuGVaaXgQwL+MMa/43F4ALBGRT0TkJRE5OcP9ErVYW7YABw8yNOSDqipgzBjtQ/LSS3EfTXbU\n1OhtsuYJINrQ0L27DkPeuVOrIBSPwKFBRC4HcByA23w+ZTOAGwBcDOBLADYAeFVEjgu6b6KWLMgc\nDc3B0JB9VVU6emLs2NxuorjnHu1Im4lUocFWGqIaQeGsNBw8mDg2il5RkI1FpB+AewBMMcb4WtXc\nGLMawGrHXaUiMhTAdADXpHru9OnT0bVr10b3TZs2DdOmTQty2EQ5IerQYIxeCVP4qqp0hs6pU4E/\n/lGbnvwOo41SaakudlZbC3TsGOy5uVZpGDFCQwOg1QavZpNCNGvWLMyaNavRfZWVlVnbX6DQAGAs\ngB4AykQ+fztqDeA0EfkWgHbG+CocLQQwId1GM2bMQElJScBDJMpNFRX6ZuvKwaHr1k3bo2tq+Maa\nLVVVerU9dSrwy18CZWXA8cdnb387d2rfiaOOCva8jRv1yrysDDjllGDPzbVKw4QJ2jwB6PnIdvhu\nKbwupMvKyjB27Nis7C9o88R8AEdDmyeObfhaBO0UeazPwICG528OuG+iFi3oyIlM2VkhOYIie6qr\n9YNz/Hi9zXYTxa9+BXzhC8Gft2mT3r7zTvDnpgoNNozG0RES4AiKOAUKDcaYGmPMCucXgBoAO4wx\n5QAgIneIyEz7HBH5johcICJDReRIEbkHwBkAHgjzP0KU66IODezXkD220tCmDTB5cvZDw3vvadWg\nrs7/c+rrE6GhtDT4PlOFhlatNDhEERr27wcqKzU0OCsNFI8wZoR0Vxf6AHBOX9MWwF0AlgJ4FVqp\nmGyMeTWEfRO1GAwN+aOqKnG1PXUq8Pbb+sGWLUuXamAI8jP99FPgwAFg+PDwKw1AdFNJ2/9zjx7a\ntCfCSkOcmh0ajDGTjDG3Or6/1hgzyfH9ncaY4caYQ4wxPYwxk40xrzd3v0QtDUNDfjhwQPuM2Hb9\nqVP1A/0VvwPQA9q6NTEj4uYAjbq2ynDxxboke9D5JPyEhigqDfb/3qOHdjY99FBWGuLEtSeIIlBd\nHV3nrY4dgfbtGRqyxX5Q2tAweLBezWeriWLZssS/g3zwb9yotxdfrLdBqw01Ndr80qaN9+NRrXTp\nrDQAibkaKB4MDZT3amqA73433hUJN2zQ26h6fHfvzo6Q2eIODYBWG+bOzc6kQ8uWaQgUCV5paN1a\nJ6E6/PDMQkOyKgMQXfOEs9IAaGdINk/Eh6GB8l5ZGXD33Xobl6jmaLC6d0+82VK4koWGjz8GPvww\n/P0tXapDLbt3DxYaNm4E+vTR4HDiicE7Q6YLDVFVGrZv1/VXbB8STiUdL4YGynu2bTbIG27YKiq0\nx3nfvtHsr1s3vrFmi13h0hkaJk7UMn42miiWLQOOPloDQNBKQ79++u/x44FFi4KNvvBTaYgqNPTo\nkZiojM0T8WJooLxXW6u3cYeGvn2Ttw+HjVdj2eNVaejUCTjrLGDGjHBL9nV1wPLlGhr69g3Wp2HT\nJm2WALTSUFOjr+VXLjVP2M69AJsn4sbQQHkvFyoN69cD/fun3y4sDA3ZY0ODe7bN++/XTns33xze\nvtas0b44xxwTvNKwcWOi0jB2rDZTBGmiCKt54oUXmleRsJUGi7/b8WJooLyXC5WG1au1h31U+Maa\nPV6VBkBHUfzhD8Djj+tXGOzIiUybJ2yl4ZBD9DWCdIYMo9KwfTtw3nnA3/7mf79er+EMDbnUPLFm\nDTBwYKLPUiFgaKC8F3elwRigvBw44ojo9sk+DdlTVQW0batfbldeCVx1FfDNbwLr1jV/X8uWAT17\n6pcNDX5GaFRV6Qe6DQ2ANlF4hYbaWmDWrKavG0afhsWL9dbOGZEJr0pDVZXOlxG3efM0MLz4Yurt\nrroKePrpaI4p2xgaKO/FXWn45BN9A48yNBQX6z6jemPdtKlwliu2U0gn8+CD2gZ/5ZW6WFRzLFum\nTROA9mk4cMDfUFr7IW2bJwDtDLliRdPqwP/5P8AVVyQ+4C0/zRN796b+HVu0SG+b87fnFRoAYNeu\nzF8zLLa55+WXk2+zdSvwxBM6HXY+YGigvBd3pWHFCr0dPTq6fUa9sM+kScBdd0WzrzAdOBCscyCQ\nPjR06QI8+STw7rvAz3/evONbulSbFQCtNAD+fo9taHBXGozR47JeflmbVADgzTcbv0a60GBXa00V\nYmwQyfRvr65OX9/dPAHkRiXtnXeAoiLgP//RtT68vPSS3p51VnTHlU0MDZT3bGjYvr35V36ZKC/X\nceaDB0e3TxsaonhjPXgQWLs2MYFVS/LMMzr5UZCOeulCA6BX9f/7v4llszNRU6NNHJmEBjsbpDM0\njBypH/T26nj3buBrXwPOOAM4+eSmoaG6OnVoOO44vXWGELfmVhp27tSg41VpiHsExc6dwKpVwNVX\nawfYDz7w3m7OHP0d69kz2uPLFoYGynu2ecIYLRVGbcUKfcNu3Tq6fUYZGjZvTlwRtjSffKLVhlWr\n/D/HLoudzm236WRe992X2bEtX66/szY09O6tt34rDd266UySVqtWwAknJPo1/Pd/68/soYeAU0/V\n0ODs11BT03SEiNOgQRpKFizwfnzrVg0vo0dnHhrcs0EC0f5up7Jwod5On64XBV5rj9TXa6Xh7LOj\nPbZsYmigvFdTkyilxtFEsWJFtP0ZgGjfWG3P8ZYYGuwxBwkNzhUuU2ndGrjhBuCppzL7OSxdqh/0\n9nenfXv9ufqZq2HjxsZVBst2hnzpJeD//l/gd7/TCtiECfq6H3+c2DZd84QIcMopyUODbZr4whc0\nQCQr36fiFRpypXmitFSD2ZFH6vnz6tfw3ntahZg6NfrjyxaGBsp7tbXA0KH67zhCQ9QjJ4Bo31hb\ncmiw5ydoaPBTaQC0/F9XBzzySOBDw7JlwLBhugCZ5XfYpXM2SKcTTwS2bdOOj5Mna6gBtHkCaNxE\nkS40ABoa3n0X2LOn6WOLF+vv4cknaxNWJguoeYWGDh00QMXdPFFaqs1QInouX3utafPnnDn6u3LS\nSfEcYzYwNFDeq6nRq6mgC/6EYft2fbOMshMkoG+qHTtGExrWr9fblhgaMq00+A0NPXsCl1yinQ2D\nXmnb6aOdgoSGZJUGQJf2fuihxNTM3boBo0YlQsP+/foB6Cc0HDjg3a9h8WJg3LhgfTHctm9PLIft\nFPdcDfX1WrEZP16/nzRJfy/cI1DmztXHvIbntlQMDZT3amu1R3vPntGHBjtyIupKAxDdBE/OSkM2\nVnnMpmxXGgCds2HNmtTD8tyM0eYJO9zS8hsakjVP9OgBXHaZNk0MHNj4sQkTEqHBdh5OFxqOPlr/\ntryaKBYt0pkomxMaPv1Uh6+2cn1SxT2V9OrVOuTThoZx4/R3wvkzrqwE3norv5omAIYGKgA1NXrV\nHXRGvTCUl+uQrGHDot0vEG1oENErTruYU0uxY4deya5e7b8SEDQ0TJigq1TaoY1+bNmix5ZJpWH/\nfm2C8GqeAHR2xmnTmt5/yik6AmDXLv+hoXVrbX5wh4YtW7TaMXZssA6cbu45Gqy4ZzwtLdXf+eOP\n1++LioDTTmvcGfKVV7RpiqGBqIWprdU3vzhCw4oVGhjiKE9GGRpsKGppTRQ7d+rQwT17/A8ZDRoa\nRICbbgL++c/EUMh0nNNHO9lFq1JVdOyskV6VhlQmTNDnvf22/9AAaNh4663GK2jaMv24cfq7361b\n5qHBuViVFXfzRGmpVg9tB2tAmyHefFMnvAK0aWL4cGDIkHiOMVsYGijvxV1piKNpAog2NIwZo/9u\naaFhx45EJ0C/TRR+h1w6XXWVduD785/9bb9smf7Ouj9w+vTRD6XKyuTP9ZoN0o9hw/Sq/s03g4eG\nysrGk2QtXqy/f7YJJNO/vVSVhjibJ2wnSKfJk/VnU1qq4WvOnPwaamkxNFDes73A46o0RN0J0opi\n/YnKSv3yExrmzAHuvDO7xxPE3r1ahSop0XH2fkLD/v365WfIpVOXLhoc/vxnf1N7L12qTRrutnw/\n/QO8ZoP0QyTRryFIaDj+eF3y/Y03EvctWqRVBtvRMhuhIa5KQ3W1hjp3aDj6aP2be/llbe5avz7/\nmiYAhgYqAM7miS1bMhsvnonKSi0lx1lpyPaVvy3p+wkNTz2VW1NN2w+dHj30KttPaEi2wqUfN92k\nH5z//Gf6bb1GTgD+QsPGjVrVcI848GPCBB0VYCsZfkJDx47ad8HZr2HxYr3PedxhhoY4mycWLdL3\nEDsSxWrVSmfXfOUVDcht2wITJ8ZyiFnF0EB5zQ4ds80TBw9GV0IvL9fbfG6esCMnRo/WN8lU53br\nVv3KlYWt7LkpLtYZO7MdGo45Rj+U77svdZ+Egwe1QpUqNKSa4MnO0WCv8oM45RTt32EDgJ/QAOiM\nkm+8of+vzZv1+JobGozR0ROpmifiGK1TWqqVJq+/60mTdKbIv/9dz4nf89eSMDRQXrNTSNtKAxBd\nE8WKFfrGPXJkNPtzKy7WnvDODmphq6jQHvR9+2ppNl1oAICPPsre8QRhj7Vbt2hCA6BTS7/+uq5J\nkczTT+s8CnZtB6dDDtGmjnSVhqBNE1ZJic7xYRdZ8vuhd8opGlYqKhp3grSCLOttVVZqU06y0HDg\nQDwB9J13dDpur2nhJ03S0PfGG/nZNAEwNFCes28qttIARBsaBg/WUnEcolhCuKJCr2qLivyHhnXr\nsnc8QdhjLS7WiY02bEj/IdTc0HDeebry5Y9/rEMf3V58EfjqV3VZ7VNP9X6NdFftyWaD9KNtW+2j\n8N57+qHod9SP7Uy6YIGGhm7ddN0N5zGn68Dp5jUbpBXXVNLGeHeCtEaMSAS2fOwECTA0UJ5zVhqa\nM148E3GOnACiWX+ioiLx4ZAqNBijcwcAuRMa7Hk57LBENWj16tTPaW5oAIAf/Ug7RX71qzq80Xr9\ndeBLXwLOPRf461+bdoK0/ISGTCsNgDahAPo347eJo3t3baJasKBpJ0h7zECwv71UoSGulS4rKrRf\nVLLQIAJMmaLn/6ijoj22qDA0UF5zVhrat9cPCL9vXDU1wJ/+lBh3HVScIyeA3AoNu3YlRg2sXZu9\n4wlixw7tLNi6dSI0pGuisJNXNSc0iAB/+Yte0X/xi9pcs3ixLux08slagWjTJvnz7VwNXowJNzQE\nYfs1uDtBAtkLDVFXGuyy4u5OkE6//S0wb15mfUpaAoYGymvOSgMQrEPWn/8M3HgjcPnl/obJOdXU\n6IqBrDQo2zRx6KG5VWno1k3/feihOs14utBgKw1Bh1y6tWsHPPusho9zztH27yOOAJ57rvFy1l5S\n/Q5/+ql2/s20eQJINDUEDQ2nnKJzNWzeHG5osD8jp7iaJ0pLde6Mnj2Tb9OzZ7wXC9nG0EB5zVlp\nAIKFhkcf1Tfy55/X1QqDDNW0Hz75XGmoq9NOd0FCw4kn5k5o2LEjcY4Af50hq6r0Az9VJcCv7t31\nd2vrVq0evPCCvzCS6nfYzjjZnEpDcbH+3mcSGixnJ0hAX6tz5+ChobhY+8u4de2qV/JRNU/s3q1D\nhp97LnnTRKHw+HEQ5Q+vSoOf3vvLlmlnsP/3/7R5Yto07bX+wAP+yo52oao4Q0OHDvoBl63QsHmz\nBocgoeGkk4BXX9UAlqzNPirOSgOgoaGsLPVzgk4hnc6oUXp13qWL/+pFnz7aTFJd3fQ5mU7s5Hbh\nhVopC2LQIA0/+/cD/fs3fTzosMtkczQA2qTUtWt2Kw01Nbqk+XPP6e/sgQM6ouU738nePlsChgbK\na+6Z7fr00Xny03n0Uf1AOecc7UFeVQVcf72+Ud1xh25TVaUz9334oZaXbQkW0NDQr59+GMRFJLtz\nNdg5GpyhYfdufXN1X4lv3arnsaREhxNu3tz8D7bm2rGjcRl/5Ehg1iztF5AsGIYdGgD9oA3CWeof\nPrzxY5s26Qeq7fSbqVRDQpMR0dEhu3d7n7+goSHZHA2W39/tykr9ua5fryNkNmzQ8zR9OnDzzcmf\n9/3vA3+oOiw+AAAgAElEQVT8o07QdPfdwAUXNB4RUqgYGiiv2dBg24md48WTfTAcPAg8/jhwxRWJ\nIWdf/7q+GX73u9rjvaKicZm9f39doMZWFsrLc6NdM5uhYf16vXWGBkD316tX4223bdP7hg7V79et\niz807NwJHHts4vtRo/T3JdWQxWyEhqBsyPjkk6ahYeNGDQxecwhE4Y9/TP5YJpUGr8WqLL/rT3zt\na1ot6N8/8VVbC9xzjy5b7vU+UFcHzJ4NfPvbuTWLaS5gnwbKa7W12p/BlsL79NEZ73bvTv6c+fN1\nWNXVVze+/9ZbgRkz9Cr6wguBmTOBJUu0uaNrV23TtUPoVqyItxOklSo0zJwJHHlk5q9dUaH/b1tN\nsaHBq4li61YNDYMG6fe50K/Bq08DkLpfQy6EhlSdCpszR0MYWrXKfKioW6rmCcDfVNKvvQb84x/a\nzPDRRzqs9YkntJKyZo02QXp54w39nf3yl/0fb6FgpYHyml3h0nK+4TqXtXV69FGtErh7gAPALbfo\nl9sbb+jwucmTtUqxdm1uVBpS9TN4910NN7t3Z9aM4hw5YfcFJA8NPXsmJtmKe9ilMU37NAwerIFw\n1Sr9OXrJZIXLsHXurOfR6wO4ObNBZlvYoaG4WJswkqmv16B//PFaNXSaNEmrGH/7mzaZuc2erRWJ\nVEMrCxUrDZTX7GJVVrqhX7t361C4a64JNs760EO1eeLss4GLL9byZq5XGmxHt0w/wIOGBttkMWRI\n/JWG2lrtW+GsNBQVafNJukpDc4dbNpdI8g/g5s7RkE19+ujfl+2cnI6f0JCq0vDoo9qxdcaMptWP\noiL9O3366aZTW9fV6doRl1ySv3MtNAdDA+W1VJUGL7Nn64fJlVcG31f79vr8G2/Uq8FcmBHOT2hY\nsyaz13aHBjt2viWEBntO3HMApBt2mQvNE0DyCZ7ibp5Ixe9cDcZox8U9e1LPh5CqeaKmBvjBD4BL\nL01MVuV2+eXaL+eddxrfv2ABmyZSYWigvOauNHTurN8ne+N69FGdBjbTN97WrYE//EHfdOyHaJyS\nhQZjwq80FBVpxcUdGoxpHBqGDo0/NDjXnXAaORJYuTL583IlNHhVGqqrdaRALlcagNShobRUJ5e6\n4godrXD++cm3TdUR8re/1Z/xr3+d/PmnnqqdRp96qvH9zzyj55BNE94YGiivuSsNQPLSru0o5e4A\nmYm4Fqlys2+s7ompduxIjCzJpNKwe7dODe0egubVh6K6Wq8anZWGuJfITlZpGDVKw9CePd7Py+XQ\nYCd2aomVhk2bNCicdJKe+5df1hEPqc51cXFiiK/Txo3AnXfqkMrBg5M/v3VrrSY8/XTi76O+PtE0\nEfc8IrmKp4XymrvSACQPDY89pu3VF10UzbFFobhY3wjdo0VslWHEiMwqDRs26K2f0GAXqnKGBiDe\nJbJTVRqM0bk3vORqaDAGuP12PbbmjIjJpkMP1cnGvP72rrpKg8JDD+naFZMmpX89W8lzr+J62216\nHn7wg/Svcfnl2syzYIF+/+abenxsmkiOoYHyWk2Nv9BQX69NE5dcEnz63FyWbCppGxomT86s0uCe\n2MnyCg12NkjbPm1DQ5wjKHbu1CtJ9wiaVMMujcmd0NC3r35Y2orIY48BTz6p8ySkmtsgTsk6cO7a\npaOPfv5znVPB7xwTXitdvvaajl66/XZ/I4LGj9dREraJYvZsbZo46SR/x1CIGBoor/ltnpg7Vz/E\nrr8+umOLQqrQ0KWLrhGwcWPycnwyFRX65u6ezTBVaLCVht69tdNonP0aduzQK1V3CbpbN/3yCg37\n9+vEX7kQGpyl/tWrdZKia65pOrQw13j97c2fryMWzj472Gu5f7erqnS58VNPBa67zt9rtGqlnSWf\neUabOf7+dx1VwaaJ5HhqKK/5bZ647z6dlyHfrjBShYZBg4Bhw/T7oE0FFRV6ReZeTChZaGjdOtF/\nQCT+ERTuORqcko2gCGuFyzDY0LB+vZbY+/bVdVFyndff3osv6pwmAwcGey33Spf//d86TPOvfw02\nI+bll2sT2q9+pU0VbJpIjaGB8lqySkNlZeLqetUqYM4cnTI238Zl+w0NQZso3CMnrGShoUePxldv\ncY+gcM8G6TRkiPdiTTY05FKl4b/+C/jgA52kKBfCTDpefTHmzNE1XoJyNk/MnQv86U/A736XmKrc\nr7Fj9Wd+++16fHZpcPLG0EB5LVmlAUi8eT3wgLa3X3ZZtMcWhU6dtBqQLDT06aMjPYL2L0gXGpwT\n5jiHW1q5XGkYMCDRZ8Mpl0LDYYdpp8Lly3V4odeshrnIHRqWLdOr+6BNE0BiFdd167Q54swzgRtu\nCP46Ivq3f/Agmyb84OmhvJas0gDom9fu3Tov/Q036BtQvvFa6dLO0TBokD4+dGi4lYaDBxMfsEBi\nsSqnIUO0ScQ9FDRMxiR//VSVhoEDdQjgwYON78+l0GCbeM47r2Ut1dynj079vH+/fj9njv59nnpq\nZq9XXKzNCtXVOvIi00rhlVfq4nRXXZXZ8wsJQwPltXSVhkceAfbu1Vkc85W7ycDO0WAXjxo2LFho\nqKvTzpPJQoPdh2XXnXAaMiSxRHa2/Nd/Jf8QSFdpqKtrOuNiLoUGAHjlFe2415Ka1GzH2S1b9PbF\nF4EzzkisQhtUcbE2M957r46CyNSRR+rvBCd0So+hgfJWXZ1+MLkrDcXFelWxaRNw//06zNI9CiCf\nuCsNtr3eGRqCNE9s2aJX4UFCg1elAcjusMtlyxKrjrqlqjTY/5e7iSLXQkPv3i2vOuau8i1YkFl/\nBmvECG1SCGNCtnwaap1NXOWS8pZdGMf9ZiCib7iPPKJX2I8+GvmhRSpdaBg6VO87cEBXeUwn2RwN\ngP/QYGfqW7cOOO209PvMxJYtOrrALo9uea1w6WT/X+vX63LnVnW13raEDoe5yhkaNm/W8Nmc0PDM\nM3rbkqotLR0rDZS37DTFXlcQffoAS5boPAXjx0d7XFHzCg2dO+sMfYBWGurqvDv/eVm/Xm/9hIa9\ne/WK0h0aOnTQ6k42O0Nu2eI9u2NVlX5YJas0dOqkj3lVGtq3bzrMlPzr3l3P3+bN2jQxfHii6pSJ\nVq3YcTFqPN2Ut2ylwd08ASSuePJxmKWbV2iwnSCBxBA1v/0aKip0Yij3bIqAnut27RKhwT2xk1Oy\nERSVlf6OI5Xa2sTU2e45F5KtO+HkNYIiV2aDbMlatdLfhc2bMx9qSfFiaKC8larSMGiQvnldemmk\nhxSLZKHB6t9fmyX8hobycr1C9CLSuOOle90JJ6/Q8Jvf6HDC5jYZ2Y52QNNVK5OtO+HE0JA9ffpo\nJ86KisyGWlK8GBoob9nQ4FVp+PGPgbfeankdyTJhQ4OdO8EdGoqKtI+B306JixfrhDjJOEODe90J\nJ3doeOIJ4PvfB444Arj2Wh0ZkCkbGoqLM6s0DByYaIaxGBrC0aePLgzVvj0wcWLcR0NBNSs0iMj3\nRaReRO5Os91EEVksIntFZLWIXNOc/RL5kawjJKAfJs1pS21Jiou1Db+6uvEcDU5+52rYswdYsSL1\nZEJeoaFHj6bbDR2qj1dX65Xntdfq15IlOtnOtGnACy/4+R82ZUPDaadlXmlYv77xJFUMDeGwTYMT\nJ+bOEvLkX8ahQUSOB/ANAO+n2W4QgH8DeBnAsQDuBfAXETkz030T+ZGq0lBInFNJu+dosPwOu1y6\nVDtNBqk0dOvmPSrDhrZ//lOXI580SacCLioCZs4Ezj0X+NKXNFAEtWWL7vPkk7XS4Pzw37lT95Eq\nAAwYoGHG2b+CoSEcNjSwaaJlyig0iEgnAI8D+DqAXWk2vwnAOmPM94wxq4wxDwJ4BsD0TPZN5Feq\nSkMhcYYG93BLy4aGdDM0lpXpB+5RRyXfxh0avPozAInQcM01WnWYPTsRLtq00eWKTz8duOACbUoK\nYvNmHVY7apSGpE2bEo/ZORpSdYC1iyc5myiqqxkawmDnRGEnyJYp00rDgwD+ZYzxcw0wHsB8131z\nAeTZeoKZM0avjD76SDuZvfce8M47OjERZY6VBuUnNAwdqr9vzg9XL4sX6+x5qWbw8xsaevXSn83h\nhwPPP9/0A7ldO+DZZ4ExY7QSsX176mNz2rIlERqAxk0UO3ak7s8AeE/wVFXFORrCcPHFwMMPJ+9M\nS7ktcGgQkcsBHAfgNp9P6Q1gq+u+rQC6iEgBdENL75e/1JLdkCHaCaykROcOuOuuuI+sZaut1Q+e\nIMvk5iN3aOjcObGssGVXu0zXRFFWlrppAmg6eiJZaBDRzo+vvJIoWbt17KgViLo6XR/E2cyQig0N\ngwdr1cLZGTLVxE5Wr176PHdoYKWh+bp1074r+T7UOV8FmqZERPoBuAfAFGPMgewcUsL06dPR1TUY\nfNq0aZg2bVq2dx2ptWs1LNx3n17BdegA3HILUFoa95G1bDU1bJoAdD6F1q31g9w9R4Nl71uzJnmP\n9n37dBnm665Lvb9u3fQDdv9+rTQcfXTybS+8MP3x9+6tfR0uuUSHYl7joxv1li1aoSgq0kDkrjSk\n6gQJ6HwC/fs3bp5gaKBcNGvWLMyaNavRfZVhTHaSRNC5zcYC6AGgTOTzt53WAE4TkW8BaGdMk2uB\nLQDc1xq9AOw2xqQswM+YMQMlLWXN12aorNQ21MmTE/edeirw17/Gd0z5wD19cKES0cqCrTS4myYA\nrcgMGJC60vDBBzrVtJ9KA6D7S9U8EcTFFwNf+YpOxjVxYqLPQTJbtiSqF6NGNa00jB6dfp8DB7LS\nQLnP60K6rKwMY9P9oWYoaPPEfABHQ5snjm34WgTtFHmsR2AAgLcBTHbdd1bD/QRg166ms+uNG6ed\nudwr7ZF/rDQk2LkakoUGIP1ql2VlegV+zDGp92VDw9atelUfRmgAdHGxrl21tJ2qw2Z9faJ5AtDQ\nELTSADSe4MkYhgYiIGBoMMbUGGNWOL8A1ADYYYwpBwARuUNEZjqe9kcAQ0TkNyIyUkS+CeASACnn\ndigklZVNQ4MNiYsWRX88+aKmhpUGq7i4cfOEl3RzNSxerM1o6c6pDQ32gzqs0NC1qy4y9p//6FLI\nyezcqfNS2NAwciSwYUOiY6yfPg1A49Cwd6/2q2BooEIXxoyQ7upCHwCfr2xujPkYwHkApgBYAh1q\neZ0xxj2iomBVViYWD7L699cJcRYvjueY8kFtLSsNVnGxLtzkNUeDZYddJutsWFaWelIny34gr1ih\nt2GFBkDncrjlFuC225pO2mTZiZ2clQYAWL1aqxCffeav0jBwoFb69u9PrHDJ0ECFrtmhwRgzyRhz\nq+P7a40xk1zbvG6MGWuM6WCMGW6Meay5+80nXs0TItpEwUpD5lhpSCgu1pkWgdSVhqoq76GNBw7o\nxE5+mkkPO0x/f7MRGgDgjju0s7BdFtnNHRpGjtTblSs1oNfX+680GKPDUKuq9D6GBip0XHsiZsZ4\nN08A+ga9aJH/YWbUGCsNCcXFifJ8qkoD4N0ZcsUKHT3hp9LQurVWzsrL9XuvdSeao0MHDQLJmlLc\noeHQQzW4rFrlbwppyzlXgw0NnKeBCh1DQ8z27NH2V3fzBKCVhm3b0k+4kw2ffQY8+WT0+w0TO0Im\n2A9JrzkarFRLZC9erNWD447zt79u3bQ5oEuX1BNBZWr48OShYfNmDeHOdQ1sZ0g/i1VZ/RsaWdev\nZ6WByGJoiNmuhkm4vSoN48bpbRxNFI88Alx5ZdOli1sSDrlMsKHBa44G65BD9OrcvSokoP0ZRo70\nf6XdrZs2aYTdNGENG6Z9NLw4R05YI0cGrzR07Kj9ipyVBoYGKnQMDTGzc3B4hYa+ffVNN47QUFam\nt/NbcHdVVhoSnKEhlSlTgD//ORFmrcWL/TVNWPZKPluhYfhwrcLt3t30Ma/QYOdq+PTTxseXjh1B\nwdBApBgaYmZDg1fzhO0MGccIivfe09uWHBpYaUjwGxp+/Ws9bz/8YeK+gweB99/31wnSynZosP0v\nvJookoWGPXv0/9Gunf8lmd2hgX0aqNAxNMQsVaUBSIygiLIzZG2tdmIbMAB4+WUdn94SsdKQ4Dc0\nHH44cPvtwB/+ALz7rt63apV+4OZapQFIHhrca1nYERRvvaXH5nfdg4EDtU9DdbUG0EJfx4SIoSFm\nqfo0AHp19+mnjaezzbalS3VY2q23ascxO1SvpWGlIcF+iKcLDQDwrW8Bxx4L3HSTBkZb6RozJvj+\nwh45YR12WGLuCTe7LLbTwIFaYVi82F9/BstZaWDTBBFDQ+wqK3Vq3mRlT1sSjrKJoqxMV/i77jq9\nUm+JTRT19Rxy6TR0qC76dM456bctKtJKQ1lZ4nbYsOTB1ku2Kw2A97TX+/bpyB93aGjdWqsT+/f7\n788AaGiordWZNNk0QcTQELvKSh2W1irJT6JvX/2KsjNkWRlw1FH6JjlxIjBvXnT7DsuePXrLSoMS\nAb7xDf9t+ePHA9dfr30b5s0L1p8BiCY0DB/etNKwdaveukMDkJgZMmilAQCWL2elgQhgaIid12yQ\nblHPDOmcLnjKFGDBgsSHcEtRW6u3rDRk7le/0pL+ihXB+jMA8VUa3BM7OdnQEKTSYFfTZGggUgwN\nMUs2G6TT2LHaPBFFZ8h9+3QJZNt+feaZet+CBdnfd5js7IcMDZkrLgbuvFP/ffzxwZ47bhxw9dXp\nV8RsjuHDtbLgHHZpQ4O7IySQ6AwZpNLQo4cGJ/ZpIFIMDTHzWqzKbdy4xLLG2bZ8uU7KY68sjzhC\nr9paWr8GW2lg80TzXH018Oab2kwVRNeuwMyZ2e0H4DXt9ebN2n/Bq5qQSaVBJNFEwdBAxNAQOz/N\nE1Euk11Wpv0r7BWiiDZRtLR+Daw0hEMEOPlk/0MUo2SHXTr7NWzZoiM2vIZGjhyp9wdtMmFoIEpg\naIiZn+aJXr2Afv2iCw2jRjX+sD3zTJ3syc6m1xKw0pD/iot16KWzX4PXxE5W585AaSlw2WXB9mP7\nNTA0EDE0xM5P8wQQ3cyQzk6Q1uTJevvyy9nff1hYaSgM7hEUqUIDoH9HQRfQspUGDrkkYmiInZ/m\nCSCamSHtdMHu0HD44dq3IRf7Nfz1r8AvftH0flYaCoN7BIXXbJDNxeYJogSGhpj5aZ4AgJNO0m1n\nzszesaxcCezd6z28zvZriHI661Tq6oDp04GvfU3XS3AfFysNhcG9RLbXbJDNxeYJogSGhhjV1+tw\nMT/NE2ecAXz96zrhzksvZed47MqWxx3X9LEpU3QOfmdP9bhUVQEXXgjcdx9wwQUaEOySx1ZNjc5s\n2KZNPMdI0Rg2TKsLVVUaHNM1T2SClQaiBIaGGFVX6xudn0qDiE7pe9ZZwMUXJ1ahDFOq6YInTtSe\n53E3UVRUAKecArz2GvD888BPfqL3u4ejcgrpwuAcdllZqXOKhB0aBg0CrrpKR5EQFTqGhhilW6zK\nragIeOopHTp27rl65R8mr06QVufO2kTy6KPxrXq5Ywdw4on64fDWW8DZZwODB+tjH33UeFuucFkY\nnMMuU80G2RxFRcBjjyV+14gKGUNDjOyy2H6aJ6xOnfQKu0MH/dDcuTOcY6mv1+pFqumCf/ELHbJ2\nzz3h7DOoF1/UD4bXX9e1MQAdcte5s3elgZ0g819xsf79rFmTejZIIgoHQ0OMbGgIsnogoPM2zJkD\nbN8OXHNN6m1ra4F//CP9a65dq80lqULD6acDt9yiixgtXx7smMMwb54u2WzbmAFtthk0qGloYKWh\nMIgkhl1u3qz3hV1pIKIEhoYYBW2ecBoxApgxA/j3v3XUQzK/+532gUjXlGE7Qdo1J5L55S+BIUN0\neuEDB4Idc3MYo6HhzDObPjZ4cNPmCVYaCocddrlliwZFzqdAlD0MDTHKpHnC6dJLdUGd3//e+/F9\n+xKPrViR+rXKyvQKvnv31Nt16KD9Gt5/33t+hGwpL9crySlTmj7GSkNhs5WGbIycIKLGGBpiVFmp\nQwKDzlBntWunwzBnztSmBbenntJVANu08Rca/C5/PG4c8OMfa9Xh3XeDH3cm5s0D2rYFTj216WM2\nNDjnamCloXDYYZdr1jA0EGUbQ0OM7GyQzVkM6MYbNTA8/njj+43R5otzzgGOPlqv1JMxJlhoAIAf\n/ECbMr7yFeDhh7Vz5M9+Btx6K3DXXZn9X1KZN0+HWnoFgUGDgD17tI+HxUpD4bAjKBYsYCdIomwr\nivsACpnfdSdSGTBAJzh68EHghhsSAeT114ElS4Df/labE1JVGjZs0FEYXpM6JdOmjb7uhAnAddfp\nh3nXrrpC5qZNOlPjYYc17/9mHTgAvPqqdsD04hx22bOn/pvzNBQOO1fDtm2sNBBlGysNMfI7hXQ6\nN98MfPCBBgXrnnt0vYgpU4DRo7XSkGwK6CVL9DZdJ0i30aO1LLx/v17Zf/JJYglt+5phKC3V1/fq\nBAlopQFo3K+hpobNE4WiW7dE+GZoIMouhoYY+V2sKp3Jk3XCpwcf1O/XrQOee06HR4poeNi1KzGO\n3W3JEn3jPfzw4Ptu27bxVM0jRuiHtR2NEYZ583Q8frJQc+iheh7doYGVhsIgkqg2MDQQZRdDQ4zC\nqjSIAN/8JvDss3q1f999+iF71VX6+OjRepusX8P772vTRHP6VlitW+tcCmFOcz1/PjBpkr52Mu5h\nl+wIWVgYGoiiwdAQozD6NFjXXKOjKX73O+2YeOONOjwSAIYOTT2CYskS/aAPS0lJeJWGykpg4cLk\nTROWe9glKw2FxXaGZEdIouxiaIhRWJUGQF/nK1/RERN79mjlwSoq0mYDr0pDZaU2ZwTpBJnOmDHA\nqlWJ5amb4z//0bUugoQGY1hpKDQMDUTRYGiIUVh9Gqybb9bbyy4D+vZt/NgRR3hXGpYu1dswQ0NJ\nia5lYV/bj1mzgFGjNGw4zZ+vM1CmWyxo8GANDfX1OqlVfT0rDYXkkkt0XhKGBqLsYmiIUZjNE4Au\n4vTQQ8AddzR9zI6gcFuyRDszjhoV3nEceaQ2hwTp1/DssxoYTj+9cbhJNnW026BBGha2btUqA8BK\nQyHp0EFnSCWi7GJoiMnBg1q+D7PSAOj8CM4FnawjjtAPVPeqmO+/n/iQD0vbtvqaQfo1vP028NWv\n6mJcEydqlaKiAli92n9oALTaYJtFWGkgIgoXQ0NMMl3hMlPJRlAsWRJu04RVUuK/0rBxo36dfz7w\nyitA//7AGWdop04R/Xc6NjR89FGi0sDQQEQULoaGmDR3saqgRozQ2Rqdpf8DB3RSqGyEhjFjgGXL\ndOKndN55R2/Hj9f5Il5+WYfQ3X+/rnNRXJz+Nbp00e2clQY2TxARhYuhISZRVxrat9cOhc5Kw6pV\n2g8gW5WGAwfSL5QFaNPEgAGJzpuHHqp9GS66SKfG9suOoGDzBBFRdnDtiZjs2qW3UYUGoOkICjvV\nc5hzNFjHHKNNC++9lz6UlJZqlcGpSxfgH/8Its9Bgxo3T7DSQEQULlYaYhJ18wTQdATFkiX6QZuN\n4NKpk05tna4z5P79wOLFwEknNX+fdtglKw1ERNnB0BCTqJsnAK00VFToUtpAYvrobBkzJn1nyKVL\ngb17m1YaMjFoELB+feL/x0oDEVG4GBpismuXji0Pc6hjOnYExcqVOmtitkZOWCUluo+6uuTbvP22\nDtEMusKml0GDtB/FmjXa6bNdu+a/JhERJTA0xCTsiZ38sBM4rVihC1t9+mn2Kw01NfohnkxpqYaL\nMD7g7ayRy5drlSGMBbiIiCiBoSEmYa474VfnzjoHQnl5djtBWrZ6kKpfg1cnyEwNHKi3y5ezPwMR\nUTYwNMQkjtAAJEZQLFmi+7cftNlQXKyvn6xfw7ZtulhWWKGhUyege3etbDA0EBGFj6EhJrt2Rd88\nASRGUNhOkNku4Y8Zk7zSUFqqt2GMnLAGD9Y+FOwESUQUPoaGmMRZaVi7VmdhzGZ/BstOJ21M08dK\nS3VVwv79w9ufnU6alQYiovAxNMQkztBQX69DL6MIDWPG6CJZGzY0feztt7VpIsxqhw0NrDQQEYWP\noSEmu3bFExrssEsgu50grZISvXU3URw8CLz7brhNE0BiBAUrDURE4WuxoeGBB4CZM+M+iszFMeQS\n0M6JvXoBRUVadci2Pn2Anj0T/Res5ct1OGZYnSAtVhqIiLInp0NDsl73H30E3HqrBoeWKq7mCUCr\nDUccEc3kRyK68NSddwJ33KFNI4CGiKIiYOzYcPfHPg1ERNkTKDSIyI0i8r6IVDZ8vSUiZ6fY/nQR\nqXd91YlITz/7S1ZJ+NnPdOa/Zcv0NpnKSuDVV/3sKVp79+rqknGFhh/+EPjFL6Lb34MPAj/6ke73\nwgu1aebtt7V5JOyKgB1CykoDEVH4glYaNgD4HwAlAMYCeAXAcyIyOsVzDIDhAHo3fPUxxmzzs7M3\n3gA++KDxfStWAI89Blx6qX7wrlqV/Pm//z0webLOfJhL4lisymnKFOD886PbX+vWGvT+9S/9mY4b\nB8yfH37TBKBhoXdvnciKiIjCFSg0GGOeN8bMMcasNcasMcb8CEA1gHRv/9uNMdvsl9/99eoF/Pa3\nje/70Y+AAQMSTROpFkR65x0th8+d63eP0Yhjsapc8IUvAIsW6SRMmzZlJzQAwNNPAzffnJ3XJiIq\nZBn3aRCRViJyOYCOAN5OtSmAJSLyiYi8JCIn+93HVVcBTz6pKxcCwMKFwLPP6lVrjx7aU95Oh+zl\n3Xf19oUX/O4xGrt26W2hhQYAGDoUeOst4KGHgC9/OTv7OPVUoF+/7Lw2EVEhCxwaROQoEakCsA/A\n7wFcZIxZmWTzzQBuAHAxgC9BmzdeFRFfMwRcdJF+sN59t37/gx8ARx4JXHmlfp9q6eVNm3RRpqOO\nAubMSb3SYtTibp6IW8eOwNe+xlUoiYhamqIMnrMSwLEAugK4BMCjInKaV3AwxqwGsNpxV6mIDAUw\nHRxZ8pkAAA4SSURBVMA16Xb0gx9MR/fuXfHAA8CbbwKLFwO33joNrVtPA6CTE82YobMNuicIWrhQ\nb3/yE+3/sHBh+HMCZKpQmyeIiChcs2bNwqxZsxrdV2k/ZLIgcGgwxhwEsK7h2/dE5AQA3wFwk8+X\nWAhggp8NZ8yYgQEDSjBwoK6VcOKJwO9+l3h8zBjgs890dkP3wkvvvgv07Qt86Us6N8ELL+ReaGBn\nPSIiao5p06Zh2rRpje4rKyvD2LDHszcIY56GVgCCFJqPgzZb+NK9O3D99TqD4B13NK4o2KWXvfo1\nLFwInHCC9tyfOjW3+jXs2gV06aLHRkRE1FIEnafhDhE5VUQGNvRt+BWA0wE83vD4r0RkpmP774jI\nBSIyVESOFJF7AJwBINC0TLffrsP1Jk1qfH/fvhoq3P0a6uu10nDCCfr9uefqNMabfUeVzDz0EHDB\nBem3i3NiJyIiokwFrTT0BDAT2q9hPnSuhrOMMa80PN4bgHPNwrYA7gKwFMCrAI4GMNkY82qQnXbu\nrMP13ES02uCuNHz4IbB7N3D88fr91Km67Zw5QfYa3IMParjZsiX1dgwNRETUEgWdp+HrxpghxpgO\nxpjexhhnYIAx5lpjzCTH93caY4YbYw4xxvQwxkw2xrwe5n/guOOaVhpsJ8hx4/S2Rw+tOmSziWLt\n2sRx/Oc/qbfdtatwR04QEVHLldNrT/gxZox2hNy5M3HfwoXAyJGNP5jPPRd46aXU0043xzPPAB06\n6DwEr7ySeltWGoiIqCXKi9AANG6iWLgw0TRhnXuuNlm89VZ2jmP2bOC883Q/DA1ERJSPWnxoGD5c\nJwuyTQP792uAsJ0grZISXaI5G00U69bpHBKXXKKdNdetAz7+OPn2bJ4gIqKWqMWHhtatgWOOSVQa\nli7V4OAODa1aAeeck53Q8Pe/A+3ba6Xh9NO102Wqfg2sNBARUUvU4kMD0Lgz5MKFQFGRLrvsdu65\numpmRUW4+589WwNJp07AYYdpVSNVEwVDAxERtUR5ERrGjAFWrgT27NH5GY49Vq/83c48UysTYVYb\n1q/XfToXXzrjDA0NxjTd3hiGBiIiapnyIjQcd5wuSPXBB4mZIL0cdhgweTLwwx8CL78czr6feUYX\nXnLOIzFpki6W9eGHTbevqdFjZZ8GIiJqafIiNBx9tFYQ3ngDKC9vOnLC6W9/0/kbpk4F7rvPuxoQ\nxDPPAGef3XgdiVNO0SYSryYKLlZFREQtVV6Ehg4dgFGjgL/8RUNAskoDoNWG558HbrkF+M53dF2L\nffsy2++GDUBpqY6acOrcWY+BoYGIiPJJXoQGQJsoysu1M+KoUam3LSrS1TJnzgQef1z7IGSykujf\n/w60bQucf37TxyZN0hEU9fVNn9OqFdCvX/D9ERERxSlvQoOd5GncOP+rR159NfDaazry4ve/D77P\n2bOBs87yrhpMmgR8+qn2s7Defhv42c+0T8WAAcH3R0REFKe8CQ3HHae3qfozeDnxRGDaNOAPf9Dl\nt/16/32dXdI5asLppJO0g6RtoqisBK64QpstfvKTYMdIRESUC/ImNJSU6MyQZ5wR/Lnf+pb2T/j3\nv/1tv2GDTuQ0ZkzT/gxW+/bAhAmJoZc33qjrYzz5pDaPEBERtTR5ExoOO0yHOZ5zTvDnlpQA48fr\n0tbp7Nql+ygq0g6VHTsm33bSJG3+ePhhHbXxpz8BgwYFPz4iIqJckDehAWjeiISbbwbmz9dJopLZ\ntw+48EJg82ZgzhygT5/Urzlpki6SdcMNwFe/Clx+eebHR0REFLe8Cg3N8eUvAz16JO8QWV8PXHMN\n8M47wD//mX6EBqCdMjt1AoYMAe6/P9zjJSIiihpDQ4N27XTOhpkzgerqxo8ZA9x6K/D009onYcIE\nf6/Zpo0+5/nnNTwQERG1ZAwNDjfcoIHh8ccT9x04AFx7LXDvvdrn4aKLgr3mOefo8t1EREQtHUOD\nw4ABwBe/CDzwgFYXamr0+yefBJ54ArjppriPkIiIKD4MDS433wwsXw784x/akfGNN7R54Yor4j4y\nIiKieHHGAJdJk7ST4yWXAD176pDJkpK4j4qIiCh+rDS4iAA//anOLPnWWwwMREREFisNHi6/nHMq\nEBERubHSQERERL4wNBAREZEvDA1ERETkC0MDERER+cLQQERERL4wNBAREZEvDA1ERETkC0MDERER\n+cLQQERERL4wNBAREZEvDA1ERETkC0MDERER+cLQQERERL4wNBAREZEvDA1ERETkC0MDERER+cLQ\nQERERL4wNBAREZEvDA1ERETkC0MDERER+cLQQERERL4wNBAREZEvDA1ERETkC0MDERER+cLQQERE\nRL4wNBAREZEvDA1ERETkC0MDfW7WrFlxH0LB4TmPHs959HjO80eg0CAiN4rI+yJS2fD1loicneY5\nE0VksYjsFZHVInJN8w6ZsoV/2NHjOY8ez3n0eM7zR9BKwwYA/wOgBMBYAK8AeE5ERnttLCKDAPwb\nwMsAjgVwL4C/iMiZGR4vERERxaQoyMbGmOddd/1IRG4CMB5AucdTbgKwzhjzvYbvV4nIKQCmA5gX\n9GCJiIgoPhn3aRCRViJyOYCOAN5Ostl4APNd980FcFKm+yUiIqJ4BKo0AICIHAUNCe0BVAG4yBiz\nMsnmvQFsdd23FUAXEWlnjNmX5HntAaC83Kt4QdlSWVmJsrKyuA+joPCcR4/nPHo859FyfHa2D/u1\nxRgT7AkiRQAGAOgK4BIA1wM4zSs4iMgqAA8bY37juO8caD+HjslCg4hcAeCJQAdGRERETlcaY54M\n8wUDVxqMMQcBrGv49j0ROQHAd6D9F9y2AOjluq8XgN0pqgyANmFcCeBjAHuDHiMREVEBaw9gEPSz\nNFSBQ4OHVgDaJXnsbQDnuO47C8n7QAAAjDE7AISajoiIiArIW9l40UChQUTuAPAigAoAnaHVgNOh\nQQAi8isAfY0xdi6GPwK4WUR+A+BhAJOhTRrnhnL0REREFJmglYaeAGYC6AOgEsBSAGcZY15peLw3\ngP52Y2PMxyJyHoAZAL4NYCOA64wx7hEVRERElOMCd4QkIiKiwsS1J4iIiMgXhgYiIiLyJedCg4jc\nLCIficgeESkVkePjPqZ8ISK3ichCEdktIltF5FkRGeGx3c9F5BMRqRWReSIyLI7jzTci8n0RqReR\nu13383yHTET6ishjIvJpw3l9X0RKXNvwvIekYYbg20VkXcP5XCMiP/LYjuc8QyJyqoj8U0Q2NbyP\nXOCxTcrzKyLtROTBhr+LKhF5RkR6BjmOnAoNInIZgLsA/BTAGADvA5grIt1jPbD8cSqA+wGcCGAK\ngDYAXhKRDnYDEfkfAN8C8A0AJwCogf4M2kZ/uPmjIfx+A/o77byf5ztkInIogDcB7AMwFcBoAN8F\n8JljG573cH0fwA0AvglgFIDvAfieiHzLbsBz3myHAFgCPcdNOiP6PL/3ADgPwMUATgPQF8DfAx2F\nMSZnvgCUArjX8b1AR1x8L+5jy8cvAN0B1AM4xXHfJwCmO77vAmAPgEvjPt6W+gWgE4BVACYB+A+A\nu3m+s3q+fw3gtTTb8LyHe87/BeDPrvueAfAoz3lWznc9gAtc96U8vw3f74Mu/WC3GdnwWif43XfO\nVBpEpA10ue2X7X1G/1fzwQWusuVQaGLdCQAiMhg6bNb5M9gN4B3wZ9AcDwL4l0kMTQbA851F5wNY\nJCJPNzTDlYnI1+2DPO9Z8RaAySIyHABE5FgAEwC80PA9z3kW+Ty/46DTLDi3WQWdd8n3zyCMGSHD\n0h1Aa3gvcDUy+sPJbyIi0FLVAmPMioa7e0NDhNfPoHeEh5c3GlaCPQ76B+vG850dQ6DT2t8F4JfQ\nUu19IrLPGPMYeN6z4dfQK9mVIlIHbfr+oTHmbw2P85xnl5/z2wvA/oYwkWybtHIpNFC0fg/gCOjV\nAGWBiPSDBrMpxpgDcR9PAWkFYKEx5scN37/fsDrvjQAei++w8tplAK4AcDmAFdCgfK+IfNIQ1ChP\n5EzzBIBPAdTBe4GrLdEfTv4SkQegU3lPNMZsdjy0BdqPhD+DcIwF0ANAmYgcEJED0GnXvyMi+6EJ\nn+c7fJsBlLvuK4euzgvw9zwbfgvg18aY2caY5caYJ6AzAd/W8DjPeXb5Ob9bALQVkS4ptkkrZ0JD\nw5XYYuj6FAA+L6FPRpYW3ihEDYHhiwDOMMZUOB8zxnwE/eVx/gy6QEdb8GcQ3HwAR0Ovuo5t+FoE\n4HEAxxpj1oHnOxveRNMmzZEA1gP8Pc+SjtCLPqd6NHzG8Jxnl8/zuxjAQdc2I6FhOuUikk651jxx\nN4BHRGQxgIUApkN/GR+J86DyhYj8HsA0ABcAqBERm0orjTF2CfJ7APxIRNZAlya/HTqC5bmID7fF\nM8bUQEu1nxORGgA7jDH2SpjnO3wzALwpIrcBeBr6xvl1ANc7tuF5D9e/oOdzI4DlAEqg799/cWzD\nc94MInIIgGHQigIADGnocLrTGLMBac6vMWa3iDwE4G4R+QxAFYD7ALxpjFno+0DiHjriMZTkmw3/\n4T3Q9DMu7mPKly9o8q/z+Lratd3/Qofv1ELXYx8W97HnyxeAV+AYcsnznbXzfC50Qb1a6IfY1zy2\n4XkP73wfAr3o+wg6P8CHAH4GoIjnPLRzfHqS9/CH/Z5fAO2gc/V82hAaZgPoGeQ4uGAVERER+ZIz\nfRqIiIgotzE0EBERkS8MDUREROQLQwMRERH5wtBAREREvjA0EBERkS8MDUREROQLQwMRERH5wtBA\nREREvjA0EBERkS8MDUREROTL/weQRb/BPLiFCwAAAABJRU5ErkJggg==\n",
      "text/plain": [
       "<matplotlib.figure.Figure at 0x10e933310>"
      ]
     },
     "metadata": {},
     "output_type": "display_data"
    }
   ],
   "source": [
    "plt.plot(cur_l)\n",
    "plt.show()"
   ]
  },
  {
   "cell_type": "code",
   "execution_count": 32,
   "metadata": {
    "collapsed": false
   },
   "outputs": [
    {
     "data": {
      "image/png": "iVBORw0KGgoAAAANSUhEUgAAAgkAAAFkCAYAAACq4KjhAAAABHNCSVQICAgIfAhkiAAAAAlwSFlz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\nAAAASUVORK5CYII=\n",
      "text/plain": [
       "<matplotlib.figure.Figure at 0x10df7dd10>"
      ]
     },
     "metadata": {},
     "output_type": "display_data"
    }
   ],
   "source": [
    "plt.plot(search_l)\n",
    "plt.show()"
   ]
  },
  {
   "cell_type": "code",
   "execution_count": 33,
   "metadata": {
    "collapsed": false
   },
   "outputs": [
    {
     "data": {
      "image/png": "iVBORw0KGgoAAAANSUhEUgAAAhQAAAFkCAYAAAB4sKK5AAAABHNCSVQICAgIfAhkiAAAAAlwSFlz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\nSZgChYiIiCTs/wGv1YOQt1Qa2gAAAABJRU5ErkJggg==\n",
      "text/plain": [
       "<matplotlib.figure.Figure at 0x10defd890>"
      ]
     },
     "metadata": {},
     "output_type": "display_data"
    }
   ],
   "source": [
    "plt.plot(best_l)\n",
    "plt.show()"
   ]
  },
  {
   "cell_type": "code",
   "execution_count": 34,
   "metadata": {
    "collapsed": false
   },
   "outputs": [
    {
     "name": "stdout",
     "output_type": "stream",
     "text": [
      "21120\n"
     ]
    }
   ],
   "source": [
    "print linprog_count"
   ]
  },
  {
   "cell_type": "code",
   "execution_count": null,
   "metadata": {
    "collapsed": true
   },
   "outputs": [],
   "source": []
  }
 ],
 "metadata": {
  "anaconda-cloud": {},
  "kernelspec": {
   "display_name": "Python [py27]",
   "language": "python",
   "name": "Python [py27]"
  },
  "language_info": {
   "codemirror_mode": {
    "name": "ipython",
    "version": 2
   },
   "file_extension": ".py",
   "mimetype": "text/x-python",
   "name": "python",
   "nbconvert_exporter": "python",
   "pygments_lexer": "ipython2",
   "version": "2.7.12"
  }
 },
 "nbformat": 4,
 "nbformat_minor": 0
}

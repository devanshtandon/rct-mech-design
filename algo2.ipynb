{
 "cells": [
  {
   "cell_type": "code",
   "execution_count": 666,
   "metadata": {
    "collapsed": false
   },
   "outputs": [],
   "source": [
    "from scipy.optimize import linprog\n",
    "from math import sqrt\n",
    "\n",
    "import random\n",
    "import copy\n",
    "import math\n",
    "import matplotlib.pyplot as plt \n",
    "import timeit\n",
    "\n",
    "random.seed(42)\n",
    "linprog_count = 0"
   ]
  },
  {
   "cell_type": "code",
   "execution_count": 667,
   "metadata": {
    "collapsed": false
   },
   "outputs": [],
   "source": [
    "def solve_price_matrix(pred_treat_effect, ab_matrix):\n",
    "    # verify dimensions -- need to have a, b for each treatment\n",
    "    assert(len(pred_treat_effect[0]) == len(ab_matrix[0]) == len(ab_matrix[1]))\n",
    "    \n",
    "    price_matrix = copy.deepcopy(pred_treat_effect)\n",
    "    \n",
    "    # the price p(i,t) is a linear function of the input \n",
    "    for i in range(len(pred_treat_effect)):\n",
    "        for j in range(len(pred_treat_effect[0])):\n",
    "            price_matrix[i][j] = ab_matrix[0][j]*pred_treat_effect[i][j] + ab_matrix[1][j]\n",
    "            \n",
    "    return price_matrix"
   ]
  },
  {
   "cell_type": "code",
   "execution_count": 668,
   "metadata": {
    "collapsed": true
   },
   "outputs": [],
   "source": [
    "def solve_demand_matrix(wtp_matrix, price_matrix, budget_list):\n",
    "    # verify dimensions\n",
    "    # same number of subjects\n",
    "    assert(len(wtp_matrix) == len(price_matrix) == len(budget_list))\n",
    "    # same number of treatments\n",
    "    assert(len(wtp_matrix[0]) == len(price_matrix[0]))\n",
    "    \n",
    "    prob_matrix = []\n",
    "    global linprog_count\n",
    "    \n",
    "    # for feasibility condition\n",
    "    feasibility = [[1 for x in row] for row in wtp_matrix]\n",
    "    feasibility_budget = [1 for x in budget_list]\n",
    "    x_bounds = (0, 1)\n",
    "    \n",
    "#     feasibility = [[1, 1, 1], [1, 1, 1], [1, 1, 1]]\n",
    "#     feasibility_budget = [1, 1, 1]\n",
    "    \n",
    "    # convert wtp_matrix to negative for maximization using linprog\n",
    "    wtp_temp = [[-x for x in row] for row in wtp_matrix]\n",
    "    \n",
    "    # solve LP problem row by row\n",
    "    for i, row in enumerate(wtp_temp):\n",
    "        res = linprog(wtp_temp[i], A_ub=price_matrix[i], b_ub=budget_list[i],\n",
    "                  A_eq=feasibility, b_eq=feasibility_budget, \n",
    "                  bounds=(x_bounds,)*len(wtp_temp[0]))\n",
    "        linprog_count += 1\n",
    "        if (res.success == False):\n",
    "            print \"linprog not successful\"\n",
    "            print res.x\n",
    "        prob_matrix.append(res.x.tolist())\n",
    "    \n",
    "    return prob_matrix"
   ]
  },
  {
   "cell_type": "code",
   "execution_count": 669,
   "metadata": {
    "collapsed": true
   },
   "outputs": [],
   "source": [
    "def solve_excess_demand(demand_matrix, capacity_list):\n",
    "    # make sure the dimensions make sense\n",
    "    # we have a capacity for each treatment\n",
    "    assert (len(demand_matrix[0]) == len(capacity_list))\n",
    "    \n",
    "    # sum along the columns of demand_matrix to get total demand\n",
    "    total_demand_list = [0]*len(capacity_list)\n",
    "    for i in demand_matrix:\n",
    "        for j, val in enumerate(i):\n",
    "            total_demand_list[j] += val\n",
    "    \n",
    "    # subtract to get excess demand\n",
    "    excess_demand = [x1 - x2 for x1, x2 in zip(total_demand_list, capacity_list)]\n",
    "    return excess_demand"
   ]
  },
  {
   "cell_type": "code",
   "execution_count": 670,
   "metadata": {
    "collapsed": true
   },
   "outputs": [],
   "source": [
    "def solve_clearing_error(excess_demand_matrix):\n",
    "    sum_squares = sum([x**2 for x in excess_demand_matrix])\n",
    "    return sqrt(sum_squares)"
   ]
  },
  {
   "cell_type": "code",
   "execution_count": 671,
   "metadata": {
    "collapsed": true
   },
   "outputs": [],
   "source": [
    "def random_ab(budget_list):\n",
    "    a_list = [random.randint(-b, 0) for b in budget_list]\n",
    "    b_list = [random.randint(-b, b) for b in budget_list]\n",
    "    return [a_list, b_list]"
   ]
  },
  {
   "cell_type": "code",
   "execution_count": 672,
   "metadata": {
    "collapsed": false
   },
   "outputs": [],
   "source": [
    "def get_nbr_ab_values(ab_matrix, excess_demand_list, k):\n",
    "    nbr = [[(ab_matrix[0][t] + excess_demand_list[t]*k) for t in range(len(excess_demand_list))], \n",
    "           [(ab_matrix[1][t] + excess_demand_list[t]*k) for t in range(len(excess_demand_list))]]\n",
    "    return nbr\n",
    "    \n",
    "def get_nbr_clear_price_tuple(nbr_ab_val, pred_treat_effect, wtp_matrix, budget_list, capacity_list):\n",
    "    nbr_price = solve_price_matrix(pred_treat_effect, nbr_ab_val)\n",
    "#     print \"price:\", nbr_price\n",
    "    nbr_demand = solve_demand_matrix(wtp_matrix, nbr_price, budget_list)\n",
    "    #print \"demand:\", nbr_demand\n",
    "    nbr_excess_demand = solve_excess_demand(nbr_demand, capacity_list)\n",
    "    nbr_clearing_err = solve_clearing_error(nbr_excess_demand)\n",
    "    return (nbr_clearing_err, nbr_ab_val)\n",
    "    \n",
    "def get_nbrs(ab_matrix, excess_demand_list, k_list, pred_treat_effect, wtp_matrix, budget_list, capacity_list):\n",
    "    nbr_list = []\n",
    "    for k in k_list:\n",
    "        nbr_ab_val = get_nbr_ab_values(ab_matrix, excess_demand_list, k)\n",
    "#         print \"nbr_ab_val: \", nbr_ab_val \n",
    "        nbr_tup = get_nbr_clear_price_tuple(nbr_ab_val, pred_treat_effect, wtp_matrix, budget_list, capacity_list)\n",
    "        nbr_list.append(nbr_tup)\n",
    "    \n",
    "    return sorted(nbr_list)"
   ]
  },
  {
   "cell_type": "code",
   "execution_count": 673,
   "metadata": {
    "collapsed": false
   },
   "outputs": [],
   "source": [
    "# matrix of WTP -- subjects along rows, treatments along columns\n",
    "wtp_matrix = [[5, 1, 2], [3, 2, 7], [4, 3, 5]]\n",
    "wtp_rand = [[random.randint(1, 10) for i in range(3)] for x in range(3)]\n",
    "\n",
    "# matrix of predicted treatment effect -- subjects along rows, treatments along columns\n",
    "pred_treat_effect = [[3, 7, 2], [5, 4, 1], [1, 6, 4]]\n",
    "pred_rand = [[random.randint(1, 10) for i in range(3)] for x in range(3)]\n",
    "\n",
    "# list of factors to get different nbr prices\n",
    "k_list = [2**i for i in range(10)]\n",
    "\n",
    "budget_list = [100, 100, 100]\n",
    "capacity_list = [1, 1, 1]\n",
    "k_list = [2**i for i in range(10)]"
   ]
  },
  {
   "cell_type": "code",
   "execution_count": 674,
   "metadata": {
    "collapsed": false
   },
   "outputs": [
    {
     "name": "stdout",
     "output_type": "stream",
     "text": [
      "[[-19, -100, -19], [40, -32, -69]]\n",
      "[[-17, -732, -107], [-55, -432, -88], [21, -632, -145]]\n",
      "[[1.0, 0.0, 0.0], [0.0, 0.0, 1.0], [0.0, 0.0, 1.0]]\n",
      "((1.0, 0.0, 0.0), (0.0, 0.0, 1.0), (0.0, 0.0, 1.0))\n",
      "[0.0, -1.0, 1.0]\n",
      "1.41421356237\n"
     ]
    }
   ],
   "source": [
    "ab_matrix = random_ab(budget_list)\n",
    "price_matrix = solve_price_matrix(pred_treat_effect, ab_matrix)\n",
    "demand_matrix = solve_demand_matrix(wtp_matrix, price_matrix, budget_list)\n",
    "excess_demand_list = solve_excess_demand(demand_matrix, capacity_list)\n",
    "clearing_error = solve_clearing_error(excess_demand_list)\n",
    "\n",
    "print ab_matrix\n",
    "print price_matrix\n",
    "print demand_matrix\n",
    "print tuple([tuple(x) for x in demand_matrix])\n",
    "print excess_demand_list\n",
    "print clearing_error"
   ]
  },
  {
   "cell_type": "code",
   "execution_count": 675,
   "metadata": {
    "collapsed": false
   },
   "outputs": [],
   "source": [
    "nbr_list = get_nbrs(ab_matrix, excess_demand_list, k_list, pred_rand, wtp_rand, budget_list, capacity_list)"
   ]
  },
  {
   "cell_type": "code",
   "execution_count": 676,
   "metadata": {
    "collapsed": true
   },
   "outputs": [],
   "source": [
    "def algo1(wtp_matrix, pred_treat_effect, capacity_list, budget_list):\n",
    "    print \"Running algo 1\"\n",
    "    k_list = [2**i for i in range(10)]\n",
    "    best_err = float(\"inf\")\n",
    "    best_p = []\n",
    "    cur_time = 0\n",
    "    \n",
    "    best_err_list = []\n",
    "    search_err_list = []\n",
    "    cur_err_list = []\n",
    "    \n",
    "    while (cur_time < THRESHOLD):\n",
    "        ab_matrix = random_ab(budget_list)\n",
    "        price_matrix = solve_price_matrix(pred_treat_effect, ab_matrix)\n",
    "        demand_matrix = solve_demand_matrix(wtp_matrix, price_matrix, budget_list)\n",
    "        excess_demand_list = solve_excess_demand(demand_matrix, capacity_list)\n",
    "        search_err = solve_clearing_error(excess_demand_list)\n",
    "        \n",
    "        tabu_list = set()\n",
    "        c = 0 # number of steps taken without improving error\n",
    "        cand_ab, cand_p, cand_d = [], [], []\n",
    "        \n",
    "        while c < 5:\n",
    "            nbr_list = get_nbrs(ab_matrix, excess_demand_list, k_list, pred_treat_effect, wtp_matrix, budget_list, capacity_list)\n",
    "            found_n_step = False\n",
    "            while not(found_n_step) or not(nbr_list):\n",
    "                cand_ab = nbr_list.pop(0)[1]\n",
    "                cand_p = solve_price_matrix(pred_treat_effect, cand_ab)\n",
    "                cand_d = solve_demand_matrix(wtp_matrix, cand_p, budget_list)\n",
    "                tup_cand_d = tuple([tuple(x) for x in cand_d])\n",
    "                if tup_cand_d not in tabu_list:\n",
    "                    found_n_step = True\n",
    "            if not(nbr_list): # list is empty\n",
    "                c = 5 # force restart\n",
    "            else:\n",
    "                ab_matrix = cand_ab\n",
    "                price_matrix = cand_p\n",
    "                tabu_list.add(tup_cand_d)\n",
    "                excess_d = solve_excess_demand(cand_d, capacity_list)\n",
    "                cur_err = solve_clearing_error(excess_d)\n",
    "                cur_err_list.append(cur_err)\n",
    "                \n",
    "                if cur_err < search_err:\n",
    "                    search_err = cur_err\n",
    "                    search_err_list.append(search_err)\n",
    "                    c = 0\n",
    "                else:\n",
    "                    c += 1\n",
    "                \n",
    "                if cur_err < best_err:\n",
    "                    best_err = cur_err\n",
    "                    best_err_list.append(best_err)\n",
    "                    best_p = cand_p\n",
    "        \n",
    "        cur_time += 1\n",
    "    \n",
    "    print \"err:\", best_err\n",
    "    print \"price:\", best_p\n",
    "    best_d = solve_demand_matrix(wtp_matrix, best_p, budget_list)\n",
    "    print \"best_d:\", best_d\n",
    "    \n",
    "    return best_err_list, search_err_list, cur_err_list, best_p"
   ]
  },
  {
   "cell_type": "code",
   "execution_count": 677,
   "metadata": {
    "collapsed": false
   },
   "outputs": [],
   "source": [
    "# Solve oversubscription\n",
    "def algo2(wtp_matrix, pred_treat_effect, capacity_list, budget_list, price_matrix):\n",
    "    cur_time = 0\n",
    "    err_list = []\n",
    "    original_price_matrix = [x[:] for x in price_matrix] #keep copy    \n",
    "    demand_matrix = solve_demand_matrix(wtp_matrix, price_matrix, budget_list)\n",
    "    excess_demand = solve_excess_demand(demand_matrix, capacity_list)\n",
    "    best_err = solve_clearing_error(excess_demand)\n",
    "    original_max_excess = max(excess_demand)\n",
    "    \n",
    "    while (cur_time < THRESHOLD):\n",
    "        max_excess = max(excess_demand) \n",
    "        cur_max_excess = max_excess #instantiate this\n",
    "        max_index = excess_demand.index(max_excess)\n",
    "        \n",
    "        # range for binary search\n",
    "        max_prices = [max(budget_list)] * len(price_matrix)\n",
    "        min_prices = [x[max_index] for x in price_matrix]\n",
    "        \n",
    "        # binary search to raise prices so long as the result reduces the max_excess\n",
    "        new_price_matrix = [x[:] for x in price_matrix]\n",
    "        it_time = 0\n",
    "        while (excess_demand[max_index] > EPSILON and it_time < THRESHOLD):\n",
    "            # find average of min and max prices\n",
    "            for i in range(len(max_prices)):\n",
    "                new_price_matrix[i][max_index] = (min_prices[i] + max_prices[i])/2\n",
    "            demand_matrix = solve_demand_matrix(wtp_matrix, new_price_matrix, budget_list)\n",
    "            excess_demand = solve_excess_demand(demand_matrix, capacity_list)\n",
    "            cur_max_excess = max(excess_demand)\n",
    "            if cur_max_excess > max_excess or excess_demand[max_index] < 0: \n",
    "                # price too high, causing another treatment to be overdemanded OR\n",
    "                # improvement but price too high now\n",
    "                max_prices = [x[max_index] for x in new_price_matrix]\n",
    "            else:\n",
    "                min_prices = [x[max_index] for x in new_price_matrix]\n",
    "            it_time += 1\n",
    "        err = solve_clearing_error(excess_demand)\n",
    "        if cur_max_excess < max_excess:\n",
    "            err_list.append(cur_err)\n",
    "            max_excess = cur_max_excess\n",
    "            price_matrix = new_price_matrix\n",
    "        else:\n",
    "            break\n",
    "        cur_time += 1\n",
    "    \n",
    "    # If we don't have improvement in max_excess, keep original price matrix\n",
    "    if max_excess > original_max_excess:  \n",
    "        price_matrix = original_price_matrix\n",
    "    print \"err:\", err\n",
    "    print \"price:\", price_matrix\n",
    "    best_d = solve_demand_matrix(wtp_matrix, price_matrix, budget_list)\n",
    "    print \"best_d:\", best_d\n",
    "    \n",
    "    return err_list, price_matrix"
   ]
  },
  {
   "cell_type": "code",
   "execution_count": 678,
   "metadata": {
    "collapsed": false
   },
   "outputs": [],
   "source": [
    "def assign_to_treatment(wtp_matrix, pred_treat_effect, capacity_list, budget_list, price_matrix):\n",
    "    #Treatments\n",
    "    treatments = [-1] * len(price_matrix)\n",
    "    demand_matrix = solve_demand_matrix(wtp_matrix, price_matrix, budget_list)\n",
    "    max_demand_by_person = [max(x) for x in demand_matrix]\n",
    "    assignment_order = sorted(range(len(max_demand_by_person)), key=lambda k: max_demand_by_person[k], reverse=True)\n",
    "    for i in assignment_order:\n",
    "        person = demand_matrix[i]\n",
    "        indices = sorted(range(len(person)), key=lambda k: person[k], reverse=True)\n",
    "        for num_treatment in indices:\n",
    "            if treatments[num_treatment] == -1: # yet to be assigned\n",
    "                treatments[num_treatment] = i\n",
    "                break\n",
    "    print\"treatments\", treatments\n",
    "    return treatments"
   ]
  },
  {
   "cell_type": "code",
   "execution_count": 679,
   "metadata": {
    "collapsed": true
   },
   "outputs": [],
   "source": [
    "# Input: treatments is a list of permuted numbers, pred_treat_effect is the treatment matrix\n",
    "# \n",
    "def calculate_utility(treatments, pred_treat_effect):\n",
    "    sum = 0\n",
    "    for i in range(len(treatments)):\n",
    "        person = treatments[i]\n",
    "        sum += pred_treat_effect[person][i]\n",
    "    return sum"
   ]
  },
  {
   "cell_type": "code",
   "execution_count": 680,
   "metadata": {
    "collapsed": false
   },
   "outputs": [
    {
     "name": "stdout",
     "output_type": "stream",
     "text": [
      "[[96, 34, 10], [10, 85, 61], [81, 73, 54]]\n",
      "[[98, 38, 56], [83, 62, 87], [58, 71, 5]]\n"
     ]
    }
   ],
   "source": [
    "DIM = 3\n",
    "# matrix of WTP -- subjects along rows, treatments along columns\n",
    "wtp_matrix = [[5, 1, 2], [3, 2, 7], [4, 3, 5]]\n",
    "wtp_rand = [[random.randint(1, 100) for i in range(DIM)] for x in range(DIM)]\n",
    "print wtp_rand\n",
    "\n",
    "# matrix of predicted treatment effect -- subjects along rows, treatments along columns\n",
    "pred_treat_effect = [[3, 7, 2], [5, 4, 1], [1, 6, 4]]\n",
    "pred_rand = [[random.randint(1, 100) for i in range(DIM)] for x in range(DIM)]\n",
    "print pred_rand\n",
    "\n",
    "budget_list = [100]*DIM\n",
    "capacity_list = [1]*DIM"
   ]
  },
  {
   "cell_type": "code",
   "execution_count": 681,
   "metadata": {
    "collapsed": false
   },
   "outputs": [
    {
     "name": "stdout",
     "output_type": "stream",
     "text": [
      "Running algo 1\n",
      "err: 0.22645625423\n",
      "price: [[8057.0, -1299.0, -7083.0], [6842.0, -2163.0, -10989.0], [4817.0, -2487.0, -657.0]]\n",
      "best_d: [[0.4744385733157199, 0.0, 0.52556142668428], [0.0, 0.5, 0.49999999999999994], [0.35418948521358157, 0.6458105147864184, 0.0]]\n",
      "excess demand: [-0.17137194147069845, 0.14581051478641838, 0.025561426684279853]\n",
      "4.34541154525\n"
     ]
    }
   ],
   "source": [
    "THRESHOLD = 10\n",
    "EPSILON = 0.5 # maximum value allowed for an entry in the excess demand matrix\n",
    "\n",
    "start_time = timeit.default_timer()\n",
    "best_l, search_l, cur_l, best_p = algo1(wtp_rand, pred_rand, capacity_list, budget_list)\n",
    "\n",
    "best_d = solve_demand_matrix(wtp_rand, best_p, budget_list)\n",
    "excess_d = solve_excess_demand(best_d, capacity_list)\n",
    "print \"excess demand:\", excess_d\n",
    "print(timeit.default_timer() - start_time)\n"
   ]
  },
  {
   "cell_type": "code",
   "execution_count": 682,
   "metadata": {
    "collapsed": false
   },
   "outputs": [
    {
     "name": "stdout",
     "output_type": "stream",
     "text": [
      "4\n",
      "27\n",
      "81\n"
     ]
    }
   ],
   "source": [
    "print len(best_l)\n",
    "print len(search_l)\n",
    "print len(cur_l)"
   ]
  },
  {
   "cell_type": "code",
   "execution_count": 683,
   "metadata": {
    "collapsed": false
   },
   "outputs": [
    {
     "data": {
      "image/png": "[encoded data removed]",
      "text/plain": [
       "<matplotlib.figure.Figure at 0x9bc7ef0>"
      ]
     },
     "metadata": {},
     "output_type": "display_data"
    }
   ],
   "source": [
    "plt.plot(best_l)\n",
    "plt.show()"
   ]
  },
  {
   "cell_type": "code",
   "execution_count": 684,
   "metadata": {
    "collapsed": false
   },
   "outputs": [
    {
     "data": {
      "image/png": "[encoded data removed]",
      "text/plain": [
       "<matplotlib.figure.Figure at 0xb376198>"
      ]
     },
     "metadata": {},
     "output_type": "display_data"
    }
   ],
   "source": [
    "plt.plot(search_l)\n",
    "plt.show()"
   ]
  },
  {
   "cell_type": "code",
   "execution_count": 685,
   "metadata": {
    "collapsed": false
   },
   "outputs": [
    {
     "data": {
      "image/png": "[encoded data removed]",
      "text/plain": [
       "<matplotlib.figure.Figure at 0xa5e45c0>"
      ]
     },
     "metadata": {},
     "output_type": "display_data"
    }
   ],
   "source": [
    "plt.plot(cur_l)\n",
    "plt.show()"
   ]
  },
  {
   "cell_type": "code",
   "execution_count": 686,
   "metadata": {
    "collapsed": false
   },
   "outputs": [
    {
     "name": "stdout",
     "output_type": "stream",
     "text": [
      "2742\n",
      "\n"
     ]
    }
   ],
   "source": [
    "print linprog_count\n",
    "print "
   ]
  },
  {
   "cell_type": "code",
   "execution_count": 687,
   "metadata": {
    "collapsed": false
   },
   "outputs": [
    {
     "name": "stdout",
     "output_type": "stream",
     "text": [
      "Running algo2\n",
      "err: 0.22645625423\n",
      "price: [[8057.0, -1299.0, -7083.0], [6842.0, -2163.0, -10989.0], [4817.0, -2487.0, -657.0]]\n",
      "best_d: [[0.4744385733157199, 0.0, 0.52556142668428], [0.0, 0.5, 0.49999999999999994], [0.35418948521358157, 0.6458105147864184, 0.0]]\n",
      "best d: [[0.4744385733157199, 0.0, 0.52556142668428], [0.0, 0.5, 0.49999999999999994], [0.35418948521358157, 0.6458105147864184, 0.0]]\n",
      "excess demand: [-0.17137194147069845, 0.14581051478641838, 0.025561426684279853]\n"
     ]
    }
   ],
   "source": [
    "#price_matrix = solve_price_matrix(pred_treat_effect, ab_matrix)\n",
    "#demand_matrix = solve_demand_matrix(wtp_matrix, price_matrix, budget_list)\n",
    "#excess_demand_list = solve_excess_demand(demand_matrix, capacity_list)\n",
    "#price: [[8057.0, -1299.0, -7083.0], [6842.0, -2163.0, -10989.0], [4817.0, -2487.0, -657.0]]\n",
    "#best_d: [[0.4744385733157199, 0.0, 0.52556142668428], [0.0, 0.5, 0.49999999999999994], [0.35418948521358157, 0.6458105147864184, 0.0]]\n",
    "#new_p = [[8057.0, -1299.0, 1083.0], [6842.0, -2163.0, 3000.0], [4817.0, -2487.0, 3657.0]]\n",
    "err_l, new_p = algo2(wtp_rand, pred_rand, capacity_list, budget_list, best_p)\n",
    "best_d = solve_demand_matrix(wtp_rand, new_p, budget_list)\n",
    "excess_d = solve_excess_demand(best_d, capacity_list)\n",
    "print \"best d:\", best_d\n",
    "print \"excess demand:\", excess_d"
   ]
  },
  {
   "cell_type": "code",
   "execution_count": 689,
   "metadata": {
    "collapsed": false
   },
   "outputs": [
    {
     "name": "stdout",
     "output_type": "stream",
     "text": [
      "treatments [1, 2, 0]\n",
      "random treatments [2, 1, 0]\n",
      "utility with algorithm 210\n",
      "random utility 176\n"
     ]
    }
   ],
   "source": [
    "treatments = assign_to_treatment(wtp_rand, pred_rand, capacity_list, budget_list, new_p)\n",
    "utility = calculate_utility(treatments, pred_rand)\n",
    "random_treatments = range(len(treatments))\n",
    "random.shuffle(random_treatments)\n",
    "print \"random treatments\", random_treatments\n",
    "random_utility = calculate_utility(random_treatments, pred_rand)\n",
    "print \"utility with algorithm\", utility\n",
    "print \"random utility\", random_utility"
   ]
  }
 ],
 "metadata": {
  "anaconda-cloud": {},
  "kernelspec": {
   "display_name": "Python [py27]",
   "language": "python",
   "name": "Python [py27]"
  },
  "language_info": {
   "codemirror_mode": {
    "name": "ipython",
    "version": 2
   },
   "file_extension": ".py",
   "mimetype": "text/x-python",
   "name": "python",
   "nbconvert_exporter": "python",
   "pygments_lexer": "ipython2",
   "version": "2.7.12"
  }
 },
 "nbformat": 4,
 "nbformat_minor": 0
}

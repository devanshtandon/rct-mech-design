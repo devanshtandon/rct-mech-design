{
 "cells": [
  {
   "cell_type": "code",
   "execution_count": 11,
   "metadata": {
    "collapsed": false
   },
   "outputs": [],
   "source": [
    "from scipy.optimize import linprog\n",
    "from math import sqrt\n",
    "import numpy as np\n",
    "import random\n",
    "import copy\n",
    "import math\n",
    "import matplotlib.pyplot as plt \n",
    "import timeit\n",
    "import pandas as pd\n",
    "from scipy import stats\n",
    "import time\n",
    "\n",
    "random.seed(42)"
   ]
  },
  {
   "cell_type": "code",
   "execution_count": 12,
   "metadata": {
    "collapsed": true
   },
   "outputs": [],
   "source": [
    "# Init alpha, beta assumed to be positive\n",
    "def init_alpha():\n",
    "    alpha = [random.randint(-budget, 0) for i in range(num_treatments)]\n",
    "    return alpha\n",
    "def init_beta():\n",
    "    beta = [random.randint(-budget, budget) for i in range(num_treatments)]\n",
    "    return beta"
   ]
  },
  {
   "cell_type": "code",
   "execution_count": 13,
   "metadata": {
    "collapsed": true
   },
   "outputs": [],
   "source": [
    "# Price vector pi(i,t) = alpha(t) * pte(i,t) + beta(t). Dimensions num_subjects * num_treatments\n",
    "def get_price_matrix(alpha, beta):\n",
    "    price_matrix = [[(alpha[index] * pte_t + beta[index]) for index, pte_t in enumerate(pte)] for pte in pte_matrix]\n",
    "    price_matrix = np.array(price_matrix)\n",
    "    #print \"get_price_matrix: Price matrix:\", price_matrix\n",
    "    return price_matrix"
   ]
  },
  {
   "cell_type": "code",
   "execution_count": 14,
   "metadata": {
    "collapsed": true
   },
   "outputs": [],
   "source": [
    "# Demand p*(i,t) matrix. Solve LP to get values. Dimensions num_subjects * num_treatments\n",
    "def get_demand_matrix(price_matrix):\n",
    "    prob_coefficient = [1] * num_treatments\n",
    "    prob_threshold = 1\n",
    "    # dummy first row\n",
    "    demand_matrix = np.zeros(num_treatments)\n",
    "    for i in range(num_subjects):\n",
    "        # Constraints:\n",
    "        # 1. <p*(i), pi(i)> <= b(i) for every subject i\n",
    "        # 2. sum of all p*(t) = prob_threshold for every subject i\n",
    "        coefficients = price_matrix[i]\n",
    "        thresholds = budget_matrix[i]\n",
    "        result = linprog(c=-wtp_matrix[i], \n",
    "                         # A_ub needs to be 2D array  \n",
    "                         A_ub=np.stack((coefficients, coefficients)),\n",
    "                         b_ub=np.stack((thresholds, thresholds)),\n",
    "                         # A_eq needs to be 2D array\n",
    "                         A_eq=np.stack((prob_coefficient, prob_coefficient)),\n",
    "                         b_eq=np.stack((prob_threshold, prob_threshold)))\n",
    "        demand_matrix = np.vstack((demand_matrix, result.x))\n",
    "    # delete dummy first row\n",
    "    demand_matrix = np.delete(demand_matrix, (0), axis=0)\n",
    "    #print \"get_demand_matrix: Demand matrix:\", demand_matrix\n",
    "    return demand_matrix"
   ]
  },
  {
   "cell_type": "code",
   "execution_count": 15,
   "metadata": {
    "collapsed": true
   },
   "outputs": [],
   "source": [
    "# Treatment_demand(t) = sum of demand(t) across all i. Dimensions 1 * num_treatments\n",
    "def get_treatment_demand_matrix(demand_matrix):\n",
    "    treatment_demand_matrix = np.zeros(num_treatments)\n",
    "    for subject in range(num_subjects):\n",
    "        for treatment in range(num_treatments):\n",
    "            treatment_demand_matrix[treatment] += demand_matrix[subject, treatment]\n",
    "    #print \"get_treatment_demand_matrix: Treatment demand matrix:\", treatment_demand_matrix\n",
    "    return treatment_demand_matrix"
   ]
  },
  {
   "cell_type": "code",
   "execution_count": 16,
   "metadata": {
    "collapsed": true
   },
   "outputs": [],
   "source": [
    "# Excess_demand(t) = treatment_demand(t) - capacity(t). Dimensions 1 * num_treatments\n",
    "def get_excess_demand_matrix(treatment_demand_matrix):\n",
    "    excess_demand_matrix = treatment_demand_matrix - capacity_matrix\n",
    "    #print \"get_excess_demand_matrix: Excess demand matrix:\", excess_demand_matrix\n",
    "    return excess_demand_matrix"
   ]
  },
  {
   "cell_type": "code",
   "execution_count": 17,
   "metadata": {
    "collapsed": true
   },
   "outputs": [],
   "source": [
    "# Clearing error in market = sqrt(sum of excess_demand(t)^2 for every treatment t)\n",
    "def get_clearing_error(excess_demand_matrix):\n",
    "    # If demand is satisfied everywhere and total capacity > number of subjects, no clearing error\n",
    "    if all(excess <= 0 for excess in excess_demand_matrix):\n",
    "        print \"get_clearing_error: Market clear, no clearing error!\"\n",
    "        return 0\n",
    "    else:\n",
    "        clearing_error = sqrt(sum([excess**2 for excess in excess_demand_matrix]))\n",
    "        clearing_error = clearing_error / sum(capacity_matrix)\n",
    "        print \"get_clearing_error: Clearing error:\", clearing_error\n",
    "        return clearing_error"
   ]
  },
  {
   "cell_type": "code",
   "execution_count": 18,
   "metadata": {
    "collapsed": true
   },
   "outputs": [],
   "source": [
    "# Recalibrate alpha, beta values to set new prices\n",
    "def get_alpha_new(alpha, excess_demand_matrix):\n",
    "    alpha_new = alpha + excess_demand_matrix * alpha_scaling_factor\n",
    "    for (i, a) in enumerate(alpha_new):\n",
    "        if (a > 0):\n",
    "            # alpha become +ve, so reset to random initialization\n",
    "            alpha_new[i] = random.randint(-budget, 0)\n",
    "    return alpha_new\n",
    "\n",
    "def get_beta_new(beta, excess_demand_matrix):\n",
    "    beta_new = beta + excess_demand_matrix * beta_scaling_factor\n",
    "    return beta_new    "
   ]
  },
  {
   "cell_type": "code",
   "execution_count": 19,
   "metadata": {
    "collapsed": true
   },
   "outputs": [],
   "source": [
    "# Find market clearing price vector. The objective is to change alpha and beta values so that we reduce clearing error\n",
    "def clear_market():\n",
    "    \n",
    "    # Initialize market prices and demand\n",
    "    alpha = init_alpha()\n",
    "    beta = init_beta()    \n",
    "    price_matrix = get_price_matrix(alpha, beta)\n",
    "    demand_matrix = get_demand_matrix(price_matrix)  \n",
    "        \n",
    "    excess_demand_matrix = get_excess_demand_matrix(get_treatment_demand_matrix(demand_matrix))\n",
    "    clearing_error = get_clearing_error(excess_demand_matrix)\n",
    "    \n",
    "    # clearing_error_threshold = 0.01*(num_subjects)/(num_treatments)\n",
    "    \n",
    "    # clearing error is percentage of total capacity so we want the market to clear at 1%\n",
    "    clearing_error_threshold = 0.01\n",
    "    threshold_iterations = 10\n",
    "    iterations = 0\n",
    "    minimum_clearing_error = clearing_error\n",
    "    alpha_star = 0\n",
    "    beta_star = 0\n",
    "    \n",
    "    # Set new prices to clear market\n",
    "    while True:\n",
    "        if iterations > threshold_iterations:\n",
    "            # new search start\n",
    "            alpha = init_alpha()\n",
    "            beta = init_beta()\n",
    "            iterations = 0\n",
    "            print \"new search start\"\n",
    "#             print alpha, beta         \n",
    "        else:\n",
    "            # continue down current search\n",
    "            alpha = get_alpha_new(alpha, excess_demand_matrix)\n",
    "            beta = get_beta_new(beta, excess_demand_matrix)\n",
    "        \n",
    "        price_matrix = get_price_matrix(alpha, beta)\n",
    "        demand_matrix = get_demand_matrix(price_matrix)\n",
    "        excess_demand_matrix = get_excess_demand_matrix(get_treatment_demand_matrix(demand_matrix))\n",
    "        clearing_error = get_clearing_error(excess_demand_matrix)\n",
    "        \n",
    "        # Store parameter values for minimum clearing error\n",
    "        if clearing_error < minimum_clearing_error:\n",
    "            minimum_clearing_error = clearing_error\n",
    "            alpha_star = alpha.copy()\n",
    "            beta_star = beta.copy()\n",
    "        # cleared the market! \n",
    "        if minimum_clearing_error < clearing_error_threshold:\n",
    "            break\n",
    "        iterations += 1\n",
    "    \n",
    "    print \"Minimum clearing error:\", minimum_clearing_error\n",
    "    print \"Alpha_star:\", alpha_star\n",
    "    print \"Beta star:\", beta_star\n",
    "    return (minimum_clearing_error, alpha_star, beta_star)"
   ]
  },
  {
   "cell_type": "code",
   "execution_count": 20,
   "metadata": {
    "collapsed": true
   },
   "outputs": [],
   "source": [
    "def simulate():\n",
    "    while True: \n",
    "        min_error, alpha_star, beta_star = clear_market()\n",
    "        price_star = get_price_matrix(alpha_star, beta_star)\n",
    "        demand_star = get_demand_matrix(price_star)\n",
    "        \n",
    "        if min_error < 0.01: \n",
    "            break\n",
    "    return demand_star"
   ]
  },
  {
   "cell_type": "code",
   "execution_count": 22,
   "metadata": {
    "collapsed": false
   },
   "outputs": [],
   "source": [
    "# hardcoded constants\n",
    "\n",
    "num_subjects = 1540\n",
    "num_treatments = 2\n",
    "capacity_matrix = [663, 877]\n",
    "budget = 100\n",
    "budget_matrix = [budget] * num_subjects\n",
    "\n",
    "# Scaling factor for alpha, beta to set new prices\n",
    "alpha_scaling_factor = 0.5\n",
    "beta_scaling_factor = budget/50"
   ]
  },
  {
   "cell_type": "code",
   "execution_count": null,
   "metadata": {
    "collapsed": false
   },
   "outputs": [
    {
     "name": "stdout",
     "output_type": "stream",
     "text": [
      "get_clearing_error: Clearing error: 0.39487781287\n",
      "get_clearing_error: Clearing error: 0.154963691924\n",
      "get_clearing_error: Clearing error: 0.121940740041\n",
      "get_clearing_error: Clearing error: 0.0238008245155\n",
      "get_clearing_error: Clearing error: 0.0321450623134\n",
      "get_clearing_error: Clearing error: 0.0375772172191\n",
      "get_clearing_error: Clearing error: 0.0502151436088\n",
      "get_clearing_error: Clearing error: 0.054814298187\n",
      "get_clearing_error: Clearing error: 0.0678469577122\n",
      "get_clearing_error: Clearing error: 0.0691770509342\n",
      "get_clearing_error: Clearing error: 0.0734152525312\n",
      "get_clearing_error: Clearing error: 0.0732630536235\n",
      "new search start\n",
      "[-46, -27] [-60, -38]\n",
      "get_clearing_error: Clearing error: 0.39487781287\n",
      "get_clearing_error: Clearing error: 0.102583041569\n",
      "get_clearing_error: Clearing error: 0.0684389910325\n",
      "get_clearing_error: Clearing error: 0.0287851711214\n",
      "get_clearing_error: Clearing error: 0.00408268204256\n",
      "Minimum clearing error: 0.00408268204256\n",
      "Alpha_star: [-152.21052791 -108.78947209]\n",
      "Beta star: [-484.84211166  386.84211166]\n",
      "get_clearing_error: Clearing error: 0.220396918811\n",
      "get_clearing_error: Clearing error: 0.0865743302453\n",
      "get_clearing_error: Clearing error: 0.0206623781293\n",
      "get_clearing_error: Clearing error: 0.00923061742867\n",
      "Minimum clearing error: 0.00923061742867\n",
      "Alpha_star: [-113.88722699 -140.11277301]\n",
      "Beta star: [ 340.45109203 -412.45109203]\n",
      "get_clearing_error: Clearing error: 0.373756441484\n",
      "get_clearing_error: Clearing error: 0.105047394187\n",
      "get_clearing_error: Clearing error: 0.0632940183514\n",
      "get_clearing_error: Clearing error: 0.0177422901406\n",
      "get_clearing_error: Clearing error: 0.000475239017801\n",
      "Minimum clearing error: 0.000475239017801\n",
      "Alpha_star: [-168.18259301 -194.31740699]\n",
      "Beta star: [-462.73037206  352.73037206]\n"
     ]
    }
   ],
   "source": [
    "# dict of form {dataset : demand_star} \n",
    "# every dataset is mapped to the market clearing probability distribution\n",
    "demand_dict = {}\n",
    "\n",
    "for d in range(1, 10):\n",
    "    pte_df = pd.read_csv(\"data/PTE_\"+str(d)+\".csv\")\n",
    "    wtp_df = pd.read_csv(\"data/WTP_\"+str(d)+\".csv\")\n",
    "    \n",
    "    pte_matrix = [[0, i] for i in pte_df['PTE'].values.tolist()]\n",
    "    wtp_matrix = [[0, i] for i in wtp_df['WTP'].values.tolist()]\n",
    "    \n",
    "    # Convert lists to np.array type\n",
    "    wtp_matrix = np.array(wtp_matrix)\n",
    "    pte_matrix = np.array(pte_matrix)\n",
    "    budget_matrix = np.array(budget_matrix)\n",
    "    capacity_matrix = np.array(capacity_matrix)\n",
    "    \n",
    "    demand_i = simulate()\n",
    "    demand_dict[d] = demand_i.tolist()\n",
    "    \n",
    "df_results = pd.DataFrame.from_dict(demand_dict)"
   ]
  },
  {
   "cell_type": "code",
   "execution_count": null,
   "metadata": {
    "collapsed": false
   },
   "outputs": [],
   "source": [
    "df_results"
   ]
  },
  {
   "cell_type": "code",
   "execution_count": null,
   "metadata": {
    "collapsed": true
   },
   "outputs": [],
   "source": []
  }
 ],
 "metadata": {
  "kernelspec": {
   "display_name": "Python [py27]",
   "language": "python",
   "name": "Python [py27]"
  },
  "language_info": {
   "codemirror_mode": {
    "name": "ipython",
    "version": 2
   },
   "file_extension": ".py",
   "mimetype": "text/x-python",
   "name": "python",
   "nbconvert_exporter": "python",
   "pygments_lexer": "ipython2",
   "version": "2.7.12"
  }
 },
 "nbformat": 4,
 "nbformat_minor": 0
}

{
 "cells": [
  {
   "cell_type": "code",
   "execution_count": 31,
   "metadata": {
    "collapsed": true
   },
   "outputs": [],
   "source": [
    "from cvxopt import matrix, solvers\n",
    "from cvxopt.modeling import variable\n",
    "from cvxopt.modeling import op, dot"
   ]
  },
  {
   "cell_type": "code",
   "execution_count": 32,
   "metadata": {
    "collapsed": true
   },
   "outputs": [],
   "source": [
    "wtp_matrix = [[1, 0], [0, 1]]\n",
    "price_matrix = [[1, 0], [0, 1]]\n",
    "budget_matrix = [10, 10]\n",
    "epsilon = 0.1\n",
    "num_subjects = 2"
   ]
  },
  {
   "cell_type": "code",
   "execution_count": 34,
   "metadata": {
    "collapsed": false
   },
   "outputs": [
    {
     "name": "stdout",
     "output_type": "stream",
     "text": [
      "None\n",
      "0.100000000824\n",
      "None\n",
      "0.899999999176\n"
     ]
    }
   ],
   "source": [
    "for i in range(num_subjects):\n",
    "    p_i0 = variable()\n",
    "    p_i1 = variable()\n",
    "\n",
    "    objective = wtp_matrix[i][0]*p_i0 + wtp_matrix[i][1]*p_i1\n",
    "    budget_constraint = (price_matrix[i][0]*p_i0 + price_matrix[i][1]*p_i1 <= budget_matrix[i])\n",
    "    probability_constraint = (p_i0 + p_i1 == 1)\n",
    "    b1 = (p_i0 >= epsilon)\n",
    "    b2 = (p_i0 <= 1-epsilon)\n",
    "    b3 = (p_i1 >= epsilon)\n",
    "    b4 = (p_i1 <= 1-epsilon)\n",
    "    \n",
    "    solvers.options['show_progress'] = False\n",
    "\n",
    "    lp_subject = op(objective, [budget_constraint, probability_constraint, b1, b2, b3, b4])\n",
    "    print lp_subject.solve()\n",
    "    \n",
    "    print p_i0.value[0]"
   ]
  },
  {
   "cell_type": "code",
   "execution_count": null,
   "metadata": {
    "collapsed": true
   },
   "outputs": [],
   "source": []
  },
  {
   "cell_type": "code",
   "execution_count": null,
   "metadata": {
    "collapsed": true
   },
   "outputs": [],
   "source": []
  },
  {
   "cell_type": "code",
   "execution_count": null,
   "metadata": {
    "collapsed": true
   },
   "outputs": [],
   "source": []
  }
 ],
 "metadata": {
  "anaconda-cloud": {},
  "kernelspec": {
   "display_name": "Python [py27]",
   "language": "python",
   "name": "Python [py27]"
  },
  "language_info": {
   "codemirror_mode": {
    "name": "ipython",
    "version": 2
   },
   "file_extension": ".py",
   "mimetype": "text/x-python",
   "name": "python",
   "nbconvert_exporter": "python",
   "pygments_lexer": "ipython2",
   "version": "2.7.12"
  }
 },
 "nbformat": 4,
 "nbformat_minor": 0
}

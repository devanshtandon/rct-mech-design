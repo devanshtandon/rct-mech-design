{
 "cells": [
  {
   "cell_type": "code",
   "execution_count": 12,
   "metadata": {
    "collapsed": true
   },
   "outputs": [],
   "source": [
    "from scipy.optimize import linprog\n",
    "from math import sqrt\n",
    "\n",
    "import random\n",
    "import copy\n",
    "\n",
    "random.seed(42)"
   ]
  },
  {
   "cell_type": "code",
   "execution_count": 2,
   "metadata": {
    "collapsed": true
   },
   "outputs": [],
   "source": [
    "def solve_price_matrix(pred_treat_effect, ab_matrix):\n",
    "    # verify dimensions -- need to have a, b for each treatment\n",
    "    assert(len(pred_treat_effect[0]) == len(ab_matrix[0]) == len(ab_matrix[1]))\n",
    "    \n",
    "    price_matrix = copy.deepcopy(pred_treat_effect)\n",
    "    \n",
    "    # the price p(i,t) is a linear function of the input \n",
    "    for i in range(len(pred_treat_effect)):\n",
    "        for j in range(len(pred_treat_effect[0])):\n",
    "            price_matrix[i][j] = ab_matrix[0][j]*pred_treat_effect[i][j] + ab_matrix[1][j]\n",
    "            \n",
    "    return price_matrix"
   ]
  },
  {
   "cell_type": "code",
   "execution_count": 3,
   "metadata": {
    "collapsed": true
   },
   "outputs": [],
   "source": [
    "def solve_demand_matrix(wtp_matrix, price_matrix, budget_list):\n",
    "    # verify dimensions\n",
    "    # same number of subjects\n",
    "    assert(len(wtp_matrix) == len(price_matrix) == len(budget_list))\n",
    "    # same number of treatments\n",
    "    assert(len(wtp_matrix[0]) == len(price_matrix[0]))\n",
    "    \n",
    "    prob_matrix = []\n",
    "    \n",
    "    # for feasability condition\n",
    "    feasability = [[1 for x in row] for row in wtp_matrix]\n",
    "    feasability_budget = [1 for x in budget_list]\n",
    "    x_bounds = (0, 1)\n",
    "    \n",
    "#     feasability = [[1, 1, 1], [1, 1, 1], [1, 1, 1]]\n",
    "#     feasability_budget = [1, 1, 1]\n",
    "    \n",
    "    # convert wtp_matrix to negative for maximization using linprog\n",
    "    wtp_temp = [[-x for x in row] for row in wtp_matrix]\n",
    "    \n",
    "    # solve LP problem row by row\n",
    "    for i, row in enumerate(wtp_temp):\n",
    "        res = linprog(wtp_temp[i], A_ub=price_matrix[i], b_ub=budget_list[i],\n",
    "                  A_eq=feasability, b_eq=feasability_budget, \n",
    "                  bounds=(x_bounds,)*len(wtp_temp[0]))\n",
    "        if (res.success == False):\n",
    "            print \"linprog not successful\"\n",
    "        prob_matrix.append(res.x.tolist())\n",
    "    \n",
    "    return prob_matrix"
   ]
  },
  {
   "cell_type": "code",
   "execution_count": 4,
   "metadata": {
    "collapsed": true
   },
   "outputs": [],
   "source": [
    "def solve_excess_demand(demand_matrix, capacity_list):\n",
    "    # make sure the dimensions make sense\n",
    "    # we have a capacity for each treatment\n",
    "    assert (len(demand_matrix[0]) == len(capacity_list))\n",
    "    \n",
    "    # sum along the columns of demand_matrix to get total demand\n",
    "    total_demand_list = [0]*len(capacity_list)\n",
    "    for i in demand_matrix:\n",
    "        for j, val in enumerate(i):\n",
    "            total_demand_list[j] += val\n",
    "    \n",
    "    # subtract to get excess demand\n",
    "    excess_demand = [x1 - x2 for x1, x2 in zip(total_demand_list, capacity_list)]\n",
    "    return excess_demand"
   ]
  },
  {
   "cell_type": "code",
   "execution_count": 9,
   "metadata": {
    "collapsed": true
   },
   "outputs": [],
   "source": [
    "def solve_clearing_error(excess_demand_matrix):\n",
    "    sum_squares = sum([x**2 for x in excess_demand_matrix])\n",
    "    return sqrt(sum_squares)"
   ]
  },
  {
   "cell_type": "code",
   "execution_count": 14,
   "metadata": {
    "collapsed": true
   },
   "outputs": [],
   "source": [
    "def get_ab_matrix(budget_list):\n",
    "    a_list = [random.randint(-b, 0) for b in budget_list]\n",
    "    b_list = [random.randint(-b, b) for b in budget_list]\n",
    "    return [a_list, b_list]"
   ]
  },
  {
   "cell_type": "code",
   "execution_count": 75,
   "metadata": {
    "collapsed": false
   },
   "outputs": [],
   "source": [
    "def get_nbr_ab_values(ab_matrix, excess_demand_list, k):\n",
    "    nbr = [[(ab_matrix[0][t] + excess_demand_list[t]*k) for t in range(len(excess_demand_list))], \n",
    "           [(ab_matrix[1][t] + excess_demand_list[t]*k) for t in range(len(excess_demand_list))]]\n",
    "    print nbr\n",
    "    \n",
    "def get_nbr_clear_price_tuple(pred_treat_effect, ab_matrix, excess_demand_list, k_list):\n",
    "    nbr_price = solve_price_matrix(pred_treat_effect, nbr_ab_val)\n",
    "    "
   ]
  },
  {
   "cell_type": "code",
   "execution_count": 79,
   "metadata": {
    "collapsed": false
   },
   "outputs": [
    {
     "name": "stdout",
     "output_type": "stream",
     "text": [
      "[10, 10]\n",
      "2\n",
      "2\n",
      "[[6, 6], [7, 7]]\n"
     ]
    }
   ],
   "source": [
    "ab_matrix = [[1, 1], [2, 2]]\n",
    "excess_demand_list = [5, 5]\n",
    "k_list = [2**i for i in range(10)]\n",
    "\n",
    "print [excess_demand_list[t]*2 for t in range(len(excess_demand_list))]\n",
    "print len(ab_matrix[0])\n",
    "print len(excess_demand_list)\n",
    "\n",
    "get_nbr_ab_values(ab_matrix, excess_demand_list, 1)"
   ]
  },
  {
   "cell_type": "code",
   "execution_count": 37,
   "metadata": {
    "collapsed": false
   },
   "outputs": [],
   "source": [
    "# matrix of WTP -- subjects along rows, treatments along columns\n",
    "wtp_matrix = [[3, 1, 1], [1, 4, 1], [1, 1, 5]]\n",
    "\n",
    "# matrix of predicted treatment effect -- subjects along rows, treatments along columns\n",
    "pred_treat_effect = [[1, 1, 1], [1, 2, 2], [1, 3, 3]]\n",
    "\n",
    "# list of factors to get different nbr prices\n",
    "k_list = [2**i for i in range(10)]\n",
    "\n",
    "budget_list = [100, 100, 100]\n",
    "capacity_list = [1, 1, 1]"
   ]
  },
  {
   "cell_type": "code",
   "execution_count": 38,
   "metadata": {
    "collapsed": false
   },
   "outputs": [
    {
     "name": "stdout",
     "output_type": "stream",
     "text": [
      "[[-8, -13, -70], [28, 22, -70]]\n",
      "[[20, 9, -140], [20, -4, -210], [20, -17, -280]]\n",
      "[[1.0, 0.0, 0.0], [0.0, 1.0, 0.0], [0.0, 0.0, 1.0]]\n",
      "[0.0, 0.0, 0.0]\n",
      "0.0\n"
     ]
    }
   ],
   "source": [
    "ab_matrix = get_ab_matrix(budget_list)\n",
    "price_matrix = solve_price_matrix(pred_treat_effect, ab_matrix)\n",
    "demand_matrix = solve_demand_matrix(wtp_matrix, price_matrix, budget_list)\n",
    "excess_demand_list = solve_excess_demand(demand_matrix, capacity_list)\n",
    "clearing_error = solve_clearing_error(excess_demand_list)\n",
    "\n",
    "print ab_matrix\n",
    "print price_matrix\n",
    "print demand_matrix\n",
    "print excess_demand_list\n",
    "print clearing_error"
   ]
  },
  {
   "cell_type": "code",
   "execution_count": null,
   "metadata": {
    "collapsed": true
   },
   "outputs": [],
   "source": []
  },
  {
   "cell_type": "code",
   "execution_count": null,
   "metadata": {
    "collapsed": true
   },
   "outputs": [],
   "source": []
  }
 ],
 "metadata": {
  "anaconda-cloud": {},
  "kernelspec": {
   "display_name": "Python [py27]",
   "language": "python",
   "name": "Python [py27]"
  },
  "language_info": {
   "codemirror_mode": {
    "name": "ipython",
    "version": 2
   },
   "file_extension": ".py",
   "mimetype": "text/x-python",
   "name": "python",
   "nbconvert_exporter": "python",
   "pygments_lexer": "ipython2",
   "version": "2.7.12"
  }
 },
 "nbformat": 4,
 "nbformat_minor": 0
}

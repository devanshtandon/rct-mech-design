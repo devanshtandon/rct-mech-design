{
 "cells": [
  {
   "cell_type": "code",
   "execution_count": 63,
   "metadata": {
    "collapsed": true
   },
   "outputs": [],
   "source": [
    "from scipy.optimize import linprog\n",
    "import copy"
   ]
  },
  {
   "cell_type": "code",
   "execution_count": 21,
   "metadata": {
    "collapsed": true
   },
   "outputs": [],
   "source": [
    "wtp_matrix = [[5, 5, 5], [4, 5, 6], [7, 8, 9]]\n",
    "price_matrix = [[5, 2, 3], [4, 5, 6], [7, 8, 9]]\n",
    "feasability = [[1, 1, 1], [1, 1, 1], [1, 1, 1]]\n",
    "feasability_budget = [1, 1, 1]\n",
    "budget_list = [10, 10, 10]\n",
    "\n",
    "prob_matrix = []\n",
    "\n",
    "demand_matrix = []\n",
    "x_bounds = (0, 1)"
   ]
  },
  {
   "cell_type": "code",
   "execution_count": 22,
   "metadata": {
    "collapsed": false
   },
   "outputs": [
    {
     "name": "stdout",
     "output_type": "stream",
     "text": [
      "[[-5, -5, -5], [-4, -5, -6], [-7, -8, -9]]\n"
     ]
    }
   ],
   "source": [
    "wtp_temp = [[-x for x in row] for row in wtp_matrix]\n",
    "print wtp_temp"
   ]
  },
  {
   "cell_type": "code",
   "execution_count": 84,
   "metadata": {
    "collapsed": false
   },
   "outputs": [
    {
     "name": "stdout",
     "output_type": "stream",
     "text": [
      "Optimization terminated successfully.\n",
      "         Current function value: 5.000000    \n",
      "         Iterations: 1\n"
     ]
    }
   ],
   "source": [
    "res = linprog(wtp_matrix[0], A_ub=price_matrix[0], b_ub=budget_list[0],\n",
    "              A_eq=feasability, b_eq=feasability_budget, \n",
    "              bounds=(x_bounds, x_bounds, x_bounds), options={\"disp\": True}\n",
    "             )"
   ]
  },
  {
   "cell_type": "code",
   "execution_count": 85,
   "metadata": {
    "collapsed": false
   },
   "outputs": [
    {
     "name": "stdout",
     "output_type": "stream",
     "text": [
      "     fun: 5.0\n",
      " message: 'Optimization terminated successfully.'\n",
      "     nit: 1\n",
      "   slack: array([ 5.,  0.,  1.,  1.])\n",
      "  status: 0\n",
      " success: True\n",
      "       x: array([ 1.,  0.,  0.])\n"
     ]
    }
   ],
   "source": [
    "print res"
   ]
  },
  {
   "cell_type": "code",
   "execution_count": 57,
   "metadata": {
    "collapsed": true
   },
   "outputs": [],
   "source": [
    "# matrix of WTP -- subjects along rows, treatments along columns\n",
    "wtp_matrix = [[5, 5, 5], [4, 5, 6], [7, 8, 9]]\n",
    "\n",
    "# matrix of (alpha, beta) values -- alphas are in 1st row, betas in 2nd\n",
    "ab_matrix = [[1, 1, 1], [2, 2, 2]]\n",
    "# matrix of predicted treatment effect -- subjects along rows, treatments along columns\n",
    "pred_treat_effect = [[1, 1, 1], [2, 2, 2], [3, 3, 3]]\n",
    "\n",
    "# price_matrix = [[5, 2, 3], [4, 5, 6], [7, 8, 9]]\n",
    "\n",
    "budget_list = [10, 10, 10]\n",
    "capacity_list = [1, 1, 1]"
   ]
  },
  {
   "cell_type": "code",
   "execution_count": 83,
   "metadata": {
    "collapsed": true
   },
   "outputs": [],
   "source": [
    "def solve_demand_matrix(wtp_matrix, price_matrix, budget_list):\n",
    "    # verify dimensions\n",
    "    # same number of subjects\n",
    "    assert(len(wtp_matrix) == len(price_matrix) == len(budget_list))\n",
    "    # same number of treatments\n",
    "    assert(len(wtp_matrix[0]) == len(price_matrix[0]))\n",
    "    \n",
    "    prob_matrix = []\n",
    "    \n",
    "    # for feasability condition\n",
    "    feasability = [[1 for x in row] for row in wtp_matrix]\n",
    "    feasability_budget = [1 for x in budget_list]\n",
    "    x_bounds = (0, 1)\n",
    "    \n",
    "#     feasability = [[1, 1, 1], [1, 1, 1], [1, 1, 1]]\n",
    "#     feasability_budget = [1, 1, 1]\n",
    "    \n",
    "    # convert wtp_matrix to negative for maximization using linprog\n",
    "    wtp_temp = [[-x for x in row] for row in wtp_matrix]\n",
    "    \n",
    "    # solve LP problem row by row\n",
    "    for i, row in enumerate(wtp_temp):\n",
    "        res = linprog(wtp_temp[i], A_ub=price_matrix[i], b_ub=budget_list[i],\n",
    "                  A_eq=feasability, b_eq=feasability_budget, \n",
    "                  bounds=(x_bounds,)*len(wtp_temp[0]))\n",
    "        prob_matrix.append(res.x.tolist())\n",
    "    \n",
    "    return prob_matrix"
   ]
  },
  {
   "cell_type": "code",
   "execution_count": 81,
   "metadata": {
    "collapsed": false
   },
   "outputs": [
    {
     "name": "stdout",
     "output_type": "stream",
     "text": [
      "((0, 1), (0, 1), (0, 1))\n"
     ]
    }
   ],
   "source": [
    "x_bounds = (0, 1)\n",
    "print (x_bounds,)*3"
   ]
  },
  {
   "cell_type": "code",
   "execution_count": 56,
   "metadata": {
    "collapsed": true
   },
   "outputs": [],
   "source": [
    "def solve_excess_demand(demand_matrix, capacity_list):\n",
    "    # make sure the dimensions make sense\n",
    "    # we have a capacity for each treatment\n",
    "    assert (len(demand_matrix[0]) == len(capacity_list))\n",
    "    \n",
    "    # sum along the columns of demand_matrix to get total demand\n",
    "    total_demand_list = [0]*len(capacity_list)\n",
    "    for i in demand_matrix:\n",
    "        for j, val in enumerate(i):\n",
    "            total_demand_list[j] += val\n",
    "    \n",
    "    # subtract to get excess demand\n",
    "    excess_demand = [x1 - x2 for x1, x2 in zip(total_demand_list, capacity_list)]\n",
    "    return excess_demand"
   ]
  },
  {
   "cell_type": "code",
   "execution_count": 69,
   "metadata": {
    "collapsed": true
   },
   "outputs": [],
   "source": [
    "def solve_price_matrix(pred_treat_effect, ab_matrix):\n",
    "    # verify dimensions -- need to have a, b for each treatment\n",
    "    assert(len(pred_treat_effect[0]) == len(ab_matrix[0]) == len(ab_matrix[1]))\n",
    "    \n",
    "    price_matrix = copy.deepcopy(pred_treat_effect)\n",
    "    \n",
    "    # the price p(i,t) is a linear function of the input \n",
    "    for i in range(len(pred_treat_effect)):\n",
    "        for j in range(len(pred_treat_effect[0])):\n",
    "            price_matrix[i][j] = ab_matrix[0][j]*pred_treat_effect[i][j] + ab_matrix[1][j]\n",
    "            \n",
    "    return price_matrix"
   ]
  },
  {
   "cell_type": "code",
   "execution_count": 70,
   "metadata": {
    "collapsed": false
   },
   "outputs": [
    {
     "name": "stdout",
     "output_type": "stream",
     "text": [
      "[[3, 3, 3], [4, 4, 4], [5, 5, 5]]\n"
     ]
    }
   ],
   "source": [
    "pred_treat_effect = [[1, 1, 1], [2, 2, 2], [3, 3, 3]]\n",
    "ab_matrix = [[1, 1, 1], [2, 2, 2]]\n",
    "print solve_price_matrix(pred_treat_effect, ab_matrix)"
   ]
  },
  {
   "cell_type": "code",
   "execution_count": 59,
   "metadata": {
    "collapsed": false
   },
   "outputs": [
    {
     "name": "stdout",
     "output_type": "stream",
     "text": [
      "[[1.0, 0.0, 0.0], [0.0, 0.0, 1.0], [0.0, 0.0, 1.0]]\n",
      "[0.0, -1.0, 1.0]\n"
     ]
    }
   ],
   "source": [
    "price_matrix = solve_price\n",
    "demand_matrix = solve_demand(wtp_matrix, price_matrix, budget_list)\n",
    "excess_demand = solve_excess_demand(demand_matrix, capacity_list)\n",
    "print demand_matrix\n",
    "print excess_demand"
   ]
  },
  {
   "cell_type": "code",
   "execution_count": null,
   "metadata": {
    "collapsed": true
   },
   "outputs": [],
   "source": []
  }
 ],
 "metadata": {
  "anaconda-cloud": {},
  "kernelspec": {
   "display_name": "Python [py27]",
   "language": "python",
   "name": "Python [py27]"
  },
  "language_info": {
   "codemirror_mode": {
    "name": "ipython",
    "version": 2
   },
   "file_extension": ".py",
   "mimetype": "text/x-python",
   "name": "python",
   "nbconvert_exporter": "python",
   "pygments_lexer": "ipython2",
   "version": "2.7.12"
  }
 },
 "nbformat": 4,
 "nbformat_minor": 0
}
